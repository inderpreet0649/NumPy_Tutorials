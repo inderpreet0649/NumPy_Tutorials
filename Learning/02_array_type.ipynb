{
 "cells": [
  {
   "cell_type": "code",
   "execution_count": 3,
   "id": "5f0f2dbc-9e71-48c5-81b9-287b30e40916",
   "metadata": {},
   "outputs": [],
   "source": [
    "import numpy as np"
   ]
  },
  {
   "cell_type": "code",
   "execution_count": 4,
   "id": "f37ff168-9eae-491b-b19b-cd9cef7e2090",
   "metadata": {},
   "outputs": [],
   "source": [
    "arr = np.array(range(25))"
   ]
  },
  {
   "cell_type": "code",
   "execution_count": 5,
   "id": "54a4e721-7d36-42c9-97d7-e1772a88dcbe",
   "metadata": {},
   "outputs": [
    {
     "data": {
      "text/plain": [
       "array([ 0,  1,  2,  3,  4,  5,  6,  7,  8,  9, 10, 11, 12, 13, 14, 15, 16,\n",
       "       17, 18, 19, 20, 21, 22, 23, 24])"
      ]
     },
     "execution_count": 5,
     "metadata": {},
     "output_type": "execute_result"
    }
   ],
   "source": [
    "arr"
   ]
  },
  {
   "cell_type": "code",
   "execution_count": 6,
   "id": "ba622a7c-eb72-4217-8c5b-5ed212bc4af1",
   "metadata": {},
   "outputs": [
    {
     "data": {
      "text/plain": [
       "array([[ 0,  1,  2,  3,  4],\n",
       "       [ 5,  6,  7,  8,  9],\n",
       "       [10, 11, 12, 13, 14],\n",
       "       [15, 16, 17, 18, 19],\n",
       "       [20, 21, 22, 23, 24]])"
      ]
     },
     "execution_count": 6,
     "metadata": {},
     "output_type": "execute_result"
    }
   ],
   "source": [
    "arr.reshape(5,5)"
   ]
  },
  {
   "cell_type": "code",
   "execution_count": 7,
   "id": "4c286fe6-066c-497b-ae86-8b1f2111a4d3",
   "metadata": {},
   "outputs": [],
   "source": [
    "arr = np.array(range(24))"
   ]
  },
  {
   "cell_type": "code",
   "execution_count": 8,
   "id": "e2bf6954-829e-4237-a177-bf7eb86a947f",
   "metadata": {},
   "outputs": [
    {
     "data": {
      "text/plain": [
       "(24,)"
      ]
     },
     "execution_count": 8,
     "metadata": {},
     "output_type": "execute_result"
    }
   ],
   "source": [
    "arr.shape"
   ]
  },
  {
   "cell_type": "code",
   "execution_count": 9,
   "id": "ad66c1c8-d0be-40f4-8c3b-2243a5e70cd8",
   "metadata": {},
   "outputs": [
    {
     "data": {
      "text/plain": [
       "1"
      ]
     },
     "execution_count": 9,
     "metadata": {},
     "output_type": "execute_result"
    }
   ],
   "source": [
    "arr.ndim"
   ]
  },
  {
   "cell_type": "code",
   "execution_count": 12,
   "id": "29c1591e-73bc-4dd0-b551-310f2d9ff939",
   "metadata": {},
   "outputs": [
    {
     "data": {
      "text/plain": [
       "3"
      ]
     },
     "execution_count": 12,
     "metadata": {},
     "output_type": "execute_result"
    }
   ],
   "source": [
    "arr.reshape(2,3,4).ndim"
   ]
  },
  {
   "cell_type": "code",
   "execution_count": 13,
   "id": "e0c54cd8-5309-472a-9f1c-a32d8a7f6903",
   "metadata": {},
   "outputs": [
    {
     "data": {
      "text/plain": [
       "1"
      ]
     },
     "execution_count": 13,
     "metadata": {},
     "output_type": "execute_result"
    }
   ],
   "source": [
    "arr.ndim"
   ]
  },
  {
   "cell_type": "markdown",
   "id": "8cd9a6e0-add8-494f-afd7-607b8c42126d",
   "metadata": {},
   "source": [
    "### Arange genrates a array with numbers in a range"
   ]
  },
  {
   "cell_type": "code",
   "execution_count": 17,
   "id": "49036e5d-42c2-44e4-b884-859a38837f06",
   "metadata": {},
   "outputs": [
    {
     "data": {
      "text/plain": [
       "array([ 0,  1,  2,  3,  4,  5,  6,  7,  8,  9, 10, 11, 12, 13, 14, 15, 16,\n",
       "       17, 18, 19, 20, 21, 22, 23])"
      ]
     },
     "execution_count": 17,
     "metadata": {},
     "output_type": "execute_result"
    }
   ],
   "source": [
    "#same as range function to create an array\n",
    "np.arange(24)"
   ]
  },
  {
   "cell_type": "code",
   "execution_count": 19,
   "id": "8aea693e-b024-4b56-8dd8-b5248f5fdb29",
   "metadata": {},
   "outputs": [
    {
     "data": {
      "text/plain": [
       "array([ 0,  1,  2,  3,  4,  5,  6,  7,  8,  9, 10, 11, 12, 13, 14, 15, 16,\n",
       "       17, 18, 19, 20, 21, 22, 23])"
      ]
     },
     "execution_count": 19,
     "metadata": {},
     "output_type": "execute_result"
    }
   ],
   "source": [
    "arr.reshape(24)"
   ]
  },
  {
   "cell_type": "code",
   "execution_count": 20,
   "id": "1acd1a76-46d5-4382-b63c-c407f6b0bb06",
   "metadata": {},
   "outputs": [],
   "source": [
    "arr = np.arange(2,24,3)"
   ]
  },
  {
   "cell_type": "code",
   "execution_count": 21,
   "id": "75b2c940-88e7-4713-81b7-f01a3334312f",
   "metadata": {},
   "outputs": [
    {
     "data": {
      "text/plain": [
       "array([ 2,  5,  8, 11, 14, 17, 20, 23])"
      ]
     },
     "execution_count": 21,
     "metadata": {},
     "output_type": "execute_result"
    }
   ],
   "source": [
    "arr"
   ]
  },
  {
   "cell_type": "code",
   "execution_count": 22,
   "id": "d41fdd7e-de94-4d81-9143-21c0f7af7fda",
   "metadata": {},
   "outputs": [
    {
     "data": {
      "text/plain": [
       "array([ 2,  5,  8, 11, 14, 17, 20, 23])"
      ]
     },
     "execution_count": 22,
     "metadata": {},
     "output_type": "execute_result"
    }
   ],
   "source": [
    "#for flate the array use -1\n",
    "arr.reshape(-1)"
   ]
  },
  {
   "cell_type": "markdown",
   "id": "ea54d840-bb34-43ab-a7d3-5c8828b62d1f",
   "metadata": {},
   "source": [
    "### generates numbers linearly spaced from starting index including index"
   ]
  },
  {
   "cell_type": "code",
   "execution_count": 27,
   "id": "079fefbf-2a31-4d2c-9e76-ce47d390ec98",
   "metadata": {},
   "outputs": [
    {
     "data": {
      "text/plain": [
       "array([ 1.  ,  3.25,  5.5 ,  7.75, 10.  ])"
      ]
     },
     "execution_count": 27,
     "metadata": {},
     "output_type": "execute_result"
    }
   ],
   "source": [
    "np.linspace(1,10,5)"
   ]
  },
  {
   "cell_type": "code",
   "execution_count": 28,
   "id": "cb961493-c477-42bf-ba41-7f826e55bf94",
   "metadata": {},
   "outputs": [
    {
     "data": {
      "text/plain": [
       "array([ 1.        ,  1.18367347,  1.36734694,  1.55102041,  1.73469388,\n",
       "        1.91836735,  2.10204082,  2.28571429,  2.46938776,  2.65306122,\n",
       "        2.83673469,  3.02040816,  3.20408163,  3.3877551 ,  3.57142857,\n",
       "        3.75510204,  3.93877551,  4.12244898,  4.30612245,  4.48979592,\n",
       "        4.67346939,  4.85714286,  5.04081633,  5.2244898 ,  5.40816327,\n",
       "        5.59183673,  5.7755102 ,  5.95918367,  6.14285714,  6.32653061,\n",
       "        6.51020408,  6.69387755,  6.87755102,  7.06122449,  7.24489796,\n",
       "        7.42857143,  7.6122449 ,  7.79591837,  7.97959184,  8.16326531,\n",
       "        8.34693878,  8.53061224,  8.71428571,  8.89795918,  9.08163265,\n",
       "        9.26530612,  9.44897959,  9.63265306,  9.81632653, 10.        ])"
      ]
     },
     "execution_count": 28,
     "metadata": {},
     "output_type": "execute_result"
    }
   ],
   "source": [
    "np.linspace(1,10)"
   ]
  },
  {
   "cell_type": "code",
   "execution_count": 29,
   "id": "0a4d5981-996d-4ec2-bca2-d0dbcc07d5ba",
   "metadata": {},
   "outputs": [
    {
     "data": {
      "text/plain": [
       "array([ 1.,  2.,  3.,  4.,  5.,  6.,  7.,  8.,  9., 10.])"
      ]
     },
     "execution_count": 29,
     "metadata": {},
     "output_type": "execute_result"
    }
   ],
   "source": [
    "#(1 se start,10 pe end , or 10 hi items chahiyeh)\n",
    "np.linspace(1,10,10)"
   ]
  },
  {
   "cell_type": "markdown",
   "id": "acee6e13-2d40-44fe-a621-4c2dd78f34c9",
   "metadata": {},
   "source": [
    "### Random functions "
   ]
  },
  {
   "cell_type": "markdown",
   "id": "b015c0b6-fd6d-41ed-94b3-e68f0f2b4a88",
   "metadata": {},
   "source": [
    "#### random number genrates from Uniform distributions between 0 and 1"
   ]
  },
  {
   "cell_type": "code",
   "execution_count": 30,
   "id": "17f1ede3-f28c-4963-bcf7-96d3377ca5a5",
   "metadata": {},
   "outputs": [
    {
     "data": {
      "text/plain": [
       "array([0.67913675, 0.81320892, 0.3394036 , 0.83790266, 0.35351292])"
      ]
     },
     "execution_count": 30,
     "metadata": {},
     "output_type": "execute_result"
    }
   ],
   "source": [
    "np.random.rand(5)"
   ]
  },
  {
   "cell_type": "code",
   "execution_count": 32,
   "id": "b33969b5-c9be-414a-9b03-4c8406c4f2b6",
   "metadata": {},
   "outputs": [
    {
     "data": {
      "text/plain": [
       "array([[0.84683852, 0.27382313, 0.50857755],\n",
       "       [0.82677146, 0.73223738, 0.74116171],\n",
       "       [0.69597172, 0.21641971, 0.41425344],\n",
       "       [0.62003697, 0.83679296, 0.27380038],\n",
       "       [0.97069512, 0.12592554, 0.9771028 ]])"
      ]
     },
     "execution_count": 32,
     "metadata": {},
     "output_type": "execute_result"
    }
   ],
   "source": [
    "#we can set their position too\n",
    "np.random.rand(5,3)"
   ]
  },
  {
   "cell_type": "markdown",
   "id": "fe9085e9-cf48-4358-afa4-eae45ba218bd",
   "metadata": {},
   "source": [
    "#### genrates random numbers from Normal distribution with centre 0"
   ]
  },
  {
   "cell_type": "code",
   "execution_count": 33,
   "id": "a4e30c72-0e6f-4a9b-95a5-7257b1b8ef9a",
   "metadata": {},
   "outputs": [
    {
     "data": {
      "text/plain": [
       "array([-0.09502291,  0.63141593,  2.58068668, -1.07933234, -1.13447073])"
      ]
     },
     "execution_count": 33,
     "metadata": {},
     "output_type": "execute_result"
    }
   ],
   "source": [
    "np.random.randn(5)"
   ]
  },
  {
   "cell_type": "code",
   "execution_count": 34,
   "id": "85ab181d-3eea-4aed-8cc0-26426dbdbaa6",
   "metadata": {},
   "outputs": [
    {
     "data": {
      "text/plain": [
       "array([[-0.55415688,  0.13343068, -0.0074959 , -1.47170646, -1.6832656 ],\n",
       "       [ 0.06985032,  1.43818522,  0.19781342, -0.37003338,  0.65559784],\n",
       "       [-0.10915971, -0.34796141, -0.82412386,  0.09251148, -1.3335322 ],\n",
       "       [ 0.50089878, -0.34488818, -1.65807998, -0.41419681, -1.09398561],\n",
       "       [-0.06660347,  1.65434141, -1.67231858, -0.15209159,  0.49142506]])"
      ]
     },
     "execution_count": 34,
     "metadata": {},
     "output_type": "execute_result"
    }
   ],
   "source": [
    "np.random.randn(5,5)"
   ]
  },
  {
   "cell_type": "markdown",
   "id": "2d226b56-2f00-4d44-839d-5d7a65c4b322",
   "metadata": {},
   "source": [
    "#### genrates array of random numbers between starting and ending"
   ]
  },
  {
   "cell_type": "code",
   "execution_count": 36,
   "id": "7b450a78-b1e7-4a79-b463-0508d32f8914",
   "metadata": {},
   "outputs": [
    {
     "data": {
      "text/plain": [
       "1"
      ]
     },
     "execution_count": 36,
     "metadata": {},
     "output_type": "execute_result"
    }
   ],
   "source": [
    "np.random.randint(0,2)"
   ]
  },
  {
   "cell_type": "code",
   "execution_count": 38,
   "id": "5cdcb0cd-7d9d-43d5-85d9-b4b947cef171",
   "metadata": {},
   "outputs": [
    {
     "data": {
      "text/plain": [
       "2"
      ]
     },
     "execution_count": 38,
     "metadata": {},
     "output_type": "execute_result"
    }
   ],
   "source": [
    "np.random.randint(0,24)"
   ]
  },
  {
   "cell_type": "code",
   "execution_count": 42,
   "id": "53d172ae-f68d-4200-b0fc-7e1a780de437",
   "metadata": {},
   "outputs": [],
   "source": [
    "#if you want it as array...or u want to create array\n",
    "arr = np.random.randint(0,24,(3,6))"
   ]
  },
  {
   "cell_type": "code",
   "execution_count": 43,
   "id": "794e1f67-a6e7-4eac-8c41-1fdfec25450d",
   "metadata": {},
   "outputs": [
    {
     "data": {
      "text/plain": [
       "array([[14, 15, 20, 17,  2, 17],\n",
       "       [12,  4,  9, 12, 11,  6],\n",
       "       [22, 16,  9, 11, 14, 17]], dtype=int32)"
      ]
     },
     "execution_count": 43,
     "metadata": {},
     "output_type": "execute_result"
    }
   ],
   "source": [
    "arr"
   ]
  },
  {
   "cell_type": "code",
   "execution_count": 46,
   "id": "49e1c687-b309-4669-864e-ff807cf0e797",
   "metadata": {},
   "outputs": [
    {
     "data": {
      "text/plain": [
       "array([14, 15, 20, 17,  2, 17, 12,  4,  9, 12, 11,  6, 22, 16,  9, 11, 14,\n",
       "       17], dtype=int32)"
      ]
     },
     "execution_count": 46,
     "metadata": {},
     "output_type": "execute_result"
    }
   ],
   "source": [
    "#-1 se bhi flatten hota hai\n",
    "arr.reshape(-1)"
   ]
  },
  {
   "cell_type": "code",
   "execution_count": 49,
   "id": "b1e398ae-6999-47b0-a145-1658e07686a8",
   "metadata": {},
   "outputs": [
    {
     "data": {
      "text/plain": [
       "array([14, 15, 20, 17,  2, 17, 12,  4,  9, 12, 11,  6, 22, 16,  9, 11, 14,\n",
       "       17], dtype=int32)"
      ]
     },
     "execution_count": 49,
     "metadata": {},
     "output_type": "execute_result"
    }
   ],
   "source": [
    "#iss funtcion se bhi flatten hota hai isme hum four options use kr sakte hai c,a,k,f\n",
    "arr.flatten(order ='C') #sidhe sidhe horizontally"
   ]
  },
  {
   "cell_type": "code",
   "execution_count": 51,
   "id": "7ddd2eb6-f953-4578-9add-e55b78d8216a",
   "metadata": {},
   "outputs": [
    {
     "data": {
      "text/plain": [
       "array([14, 12, 22, 15,  4, 16, 20,  9,  9, 17, 12, 11,  2, 11, 14, 17,  6,\n",
       "       17], dtype=int32)"
      ]
     },
     "execution_count": 51,
     "metadata": {},
     "output_type": "execute_result"
    }
   ],
   "source": [
    "arr.flatten(order = \"F\") # vertically aatte hai "
   ]
  },
  {
   "cell_type": "code",
   "execution_count": 52,
   "id": "66474f77-e1b2-48b6-8140-2c78ade74178",
   "metadata": {},
   "outputs": [
    {
     "data": {
      "text/plain": [
       "array([14, 15, 20, 17,  2, 17, 12,  4,  9, 12, 11,  6, 22, 16,  9, 11, 14,\n",
       "       17], dtype=int32)"
      ]
     },
     "execution_count": 52,
     "metadata": {},
     "output_type": "execute_result"
    }
   ],
   "source": [
    "arr.flatten(order = \"A\")"
   ]
  },
  {
   "cell_type": "code",
   "execution_count": 53,
   "id": "e9d5b054-703d-409a-9eea-23800d4a2caa",
   "metadata": {},
   "outputs": [
    {
     "data": {
      "text/plain": [
       "array([14, 15, 20, 17,  2, 17, 12,  4,  9, 12, 11,  6, 22, 16,  9, 11, 14,\n",
       "       17], dtype=int32)"
      ]
     },
     "execution_count": 53,
     "metadata": {},
     "output_type": "execute_result"
    }
   ],
   "source": [
    "arr.flatten(order = \"k\")"
   ]
  },
  {
   "cell_type": "markdown",
   "id": "12a2ecea-eee8-4aea-85cc-efe24778306d",
   "metadata": {},
   "source": [
    "### Matrix\n",
    " arrangement of data in rectangular form is called matrix"
   ]
  },
  {
   "cell_type": "markdown",
   "id": "a6d8b876-193f-43f8-94e6-c14708d69d5d",
   "metadata": {},
   "source": [
    "#### Rectangular matrix"
   ]
  },
  {
   "cell_type": "code",
   "execution_count": 54,
   "id": "fc0d0b37-19aa-45c2-b79e-5e99a0773532",
   "metadata": {},
   "outputs": [
    {
     "data": {
      "text/plain": [
       "array([[81, 97, 29],\n",
       "       [85, 96, 26],\n",
       "       [77, 53, 53],\n",
       "       [22,  3, 21],\n",
       "       [50,  5,  9]], dtype=int32)"
      ]
     },
     "execution_count": 54,
     "metadata": {},
     "output_type": "execute_result"
    }
   ],
   "source": [
    "np.random.randint(0,100,(5,3))"
   ]
  },
  {
   "cell_type": "markdown",
   "id": "46e69429-86e1-4509-afc7-fae01c150e74",
   "metadata": {},
   "source": [
    "#### Square Matrix"
   ]
  },
  {
   "cell_type": "code",
   "execution_count": 55,
   "id": "13fdf65a-489f-44e6-af40-6773ea1627b5",
   "metadata": {},
   "outputs": [
    {
     "data": {
      "text/plain": [
       "array([[72, 72, 21],\n",
       "       [70, 40, 31],\n",
       "       [60, 29, 66]], dtype=int32)"
      ]
     },
     "execution_count": 55,
     "metadata": {},
     "output_type": "execute_result"
    }
   ],
   "source": [
    "np.random.randint(0,100,(3,3))"
   ]
  },
  {
   "cell_type": "markdown",
   "id": "46b66979-68e4-4d1c-aad9-b74fc200ec7c",
   "metadata": {},
   "source": [
    "#### Triangle matrix"
   ]
  },
  {
   "cell_type": "code",
   "execution_count": 57,
   "id": "ae51661c-981d-4e5d-b65b-a2d927b66421",
   "metadata": {},
   "outputs": [
    {
     "data": {
      "text/plain": [
       "array([[1, 2, 3],\n",
       "       [0, 4, 5],\n",
       "       [0, 0, 4]])"
      ]
     },
     "execution_count": 57,
     "metadata": {},
     "output_type": "execute_result"
    }
   ],
   "source": [
    "# upper triangle\n",
    "np.array([\n",
    "    [1,2,3],\n",
    "    [0,4,5],\n",
    "    [0,0,4]\n",
    "])"
   ]
  },
  {
   "cell_type": "code",
   "execution_count": 58,
   "id": "d5ec6185-ca63-47a8-bc41-dbbbb6ae425e",
   "metadata": {},
   "outputs": [
    {
     "data": {
      "text/plain": [
       "array([[1, 0, 0],\n",
       "       [2, 4, 0],\n",
       "       [2, 5, 4]])"
      ]
     },
     "execution_count": 58,
     "metadata": {},
     "output_type": "execute_result"
    }
   ],
   "source": [
    "# Lower triangle\n",
    "np.array([\n",
    "    [1,0,0],\n",
    "    [2,4,0],\n",
    "    [2,5,4]\n",
    "])"
   ]
  },
  {
   "cell_type": "markdown",
   "id": "c8818371-39ba-4540-a539-735858ee6cb9",
   "metadata": {},
   "source": [
    "#### Diagonal matrix"
   ]
  },
  {
   "cell_type": "code",
   "execution_count": 60,
   "id": "9f57794f-75a8-46e3-8b09-5efd0d098a95",
   "metadata": {},
   "outputs": [
    {
     "data": {
      "text/plain": [
       "array([[1, 0, 0],\n",
       "       [0, 4, 0],\n",
       "       [0, 0, 4]])"
      ]
     },
     "execution_count": 60,
     "metadata": {},
     "output_type": "execute_result"
    }
   ],
   "source": [
    "np.array([\n",
    "    [1,0,0],\n",
    "    [0,4,0],\n",
    "    [0,0,4]\n",
    "])"
   ]
  },
  {
   "cell_type": "markdown",
   "id": "4d6dce4a-4aa3-491e-a4a8-9a8c86da6dcb",
   "metadata": {},
   "source": [
    "###  Transpose of a Matrix"
   ]
  },
  {
   "cell_type": "code",
   "execution_count": 61,
   "id": "c4b6a79a-cc33-49b9-845b-ebd5509eb60c",
   "metadata": {},
   "outputs": [],
   "source": [
    "arr = np.random.randint(0,100,(3,3))"
   ]
  },
  {
   "cell_type": "code",
   "execution_count": 62,
   "id": "9f58cfbb-f939-4185-b06b-5ace9a322fc6",
   "metadata": {},
   "outputs": [
    {
     "data": {
      "text/plain": [
       "array([[85, 38, 65],\n",
       "       [48, 13, 44],\n",
       "       [25, 39, 44]], dtype=int32)"
      ]
     },
     "execution_count": 62,
     "metadata": {},
     "output_type": "execute_result"
    }
   ],
   "source": [
    "arr"
   ]
  },
  {
   "cell_type": "code",
   "execution_count": 64,
   "id": "4ffb5538-1831-43c8-9e67-5651f0d74d32",
   "metadata": {},
   "outputs": [
    {
     "data": {
      "text/plain": [
       "array([[85, 48, 25],\n",
       "       [38, 13, 39],\n",
       "       [65, 44, 44]], dtype=int32)"
      ]
     },
     "execution_count": 64,
     "metadata": {},
     "output_type": "execute_result"
    }
   ],
   "source": [
    "arr.transpose()"
   ]
  },
  {
   "cell_type": "code",
   "execution_count": null,
   "id": "2ebf50af-4e95-488c-9461-71f1806c7a13",
   "metadata": {},
   "outputs": [],
   "source": []
  }
 ],
 "metadata": {
  "kernelspec": {
   "display_name": "Python [conda env:base] *",
   "language": "python",
   "name": "conda-base-py"
  },
  "language_info": {
   "codemirror_mode": {
    "name": "ipython",
    "version": 3
   },
   "file_extension": ".py",
   "mimetype": "text/x-python",
   "name": "python",
   "nbconvert_exporter": "python",
   "pygments_lexer": "ipython3",
   "version": "3.13.5"
  }
 },
 "nbformat": 4,
 "nbformat_minor": 5
}
