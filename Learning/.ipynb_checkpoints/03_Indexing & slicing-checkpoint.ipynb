{
 "cells": [
  {
   "cell_type": "code",
   "execution_count": 2,
   "id": "a0a983fa-098f-4e6c-9531-f241971e87e5",
   "metadata": {},
   "outputs": [],
   "source": [
    "import numpy as np"
   ]
  },
  {
   "cell_type": "code",
   "execution_count": 129,
   "id": "1fcba15e-175b-4c6a-81dc-26a4fe81000d",
   "metadata": {},
   "outputs": [],
   "source": [
    "#seed fuction is for random function jo bhi isse use krenga uska same number aayega also same number has same randm numbers\n",
    "np.random.seed(50)"
   ]
  },
  {
   "cell_type": "code",
   "execution_count": 7,
   "id": "04d8489f-195a-4002-898c-1d54abc1c1a6",
   "metadata": {},
   "outputs": [],
   "source": [
    "arr = np.random.randint(1,20,(3,3))"
   ]
  },
  {
   "cell_type": "code",
   "execution_count": 8,
   "id": "a7bfccf7-d4ff-4558-83d5-3851f8b8bef8",
   "metadata": {},
   "outputs": [
    {
     "data": {
      "text/plain": [
       "array([[14,  6,  3],\n",
       "       [ 8, 16,  5],\n",
       "       [15,  4,  7]], dtype=int32)"
      ]
     },
     "execution_count": 8,
     "metadata": {},
     "output_type": "execute_result"
    }
   ],
   "source": [
    "arr"
   ]
  },
  {
   "cell_type": "markdown",
   "id": "93b33334-d2c3-4445-96d2-d5b0508f1688",
   "metadata": {},
   "source": [
    "### Indexing"
   ]
  },
  {
   "cell_type": "code",
   "execution_count": 12,
   "id": "305b0ff4-885e-4c14-9cc1-fdae3a9b3923",
   "metadata": {},
   "outputs": [
    {
     "data": {
      "text/plain": [
       "array([15,  4,  7], dtype=int32)"
      ]
     },
     "execution_count": 12,
     "metadata": {},
     "output_type": "execute_result"
    }
   ],
   "source": [
    "#0,1,2....pehle row fir coloumn\n",
    "arr[2]"
   ]
  },
  {
   "cell_type": "code",
   "execution_count": 11,
   "id": "3d47a564-964b-4221-a68b-d20debaab59b",
   "metadata": {},
   "outputs": [
    {
     "data": {
      "text/plain": [
       "np.int32(15)"
      ]
     },
     "execution_count": 11,
     "metadata": {},
     "output_type": "execute_result"
    }
   ],
   "source": [
    "#row\n",
    "arr[2][0]"
   ]
  },
  {
   "cell_type": "code",
   "execution_count": 13,
   "id": "e9e91a0a-7e58-4697-a29f-11191ce2572e",
   "metadata": {},
   "outputs": [
    {
     "data": {
      "text/plain": [
       "np.int32(15)"
      ]
     },
     "execution_count": 13,
     "metadata": {},
     "output_type": "execute_result"
    }
   ],
   "source": [
    "#also if i want i can write in one bracket\n",
    "arr[2,0]"
   ]
  },
  {
   "cell_type": "code",
   "execution_count": 14,
   "id": "3c9ddf22-204a-4689-bc6e-726b7a9f977a",
   "metadata": {},
   "outputs": [],
   "source": [
    "arr = np.random.randint(1,20,(3,5,4))"
   ]
  },
  {
   "cell_type": "code",
   "execution_count": 15,
   "id": "ddd342d4-0bed-419b-bd91-8862500f1ff5",
   "metadata": {},
   "outputs": [
    {
     "data": {
      "text/plain": [
       "array([[[12, 18, 11, 10],\n",
       "        [ 1,  7,  3, 16],\n",
       "        [10,  4,  3, 13],\n",
       "        [ 1,  4,  3, 11],\n",
       "        [17, 15,  1,  1]],\n",
       "\n",
       "       [[12,  8, 15, 14],\n",
       "        [ 8,  5,  5,  1],\n",
       "        [12,  1, 14, 14],\n",
       "        [ 2, 10, 12,  6],\n",
       "        [ 1, 16,  6,  7]],\n",
       "\n",
       "       [[ 2,  5,  5, 13],\n",
       "        [15,  5, 12,  1],\n",
       "        [ 6,  9, 13, 12],\n",
       "        [ 4,  7, 19,  9],\n",
       "        [16,  6, 16,  5]]], dtype=int32)"
      ]
     },
     "execution_count": 15,
     "metadata": {},
     "output_type": "execute_result"
    }
   ],
   "source": [
    "arr"
   ]
  },
  {
   "cell_type": "code",
   "execution_count": 16,
   "id": "9c5bde05-4ba4-4845-816c-470eb8e91ed3",
   "metadata": {},
   "outputs": [
    {
     "data": {
      "text/plain": [
       "array([[12,  8, 15, 14],\n",
       "       [ 8,  5,  5,  1],\n",
       "       [12,  1, 14, 14],\n",
       "       [ 2, 10, 12,  6],\n",
       "       [ 1, 16,  6,  7]], dtype=int32)"
      ]
     },
     "execution_count": 16,
     "metadata": {},
     "output_type": "execute_result"
    }
   ],
   "source": [
    "arr[1]"
   ]
  },
  {
   "cell_type": "code",
   "execution_count": 18,
   "id": "ea752fb3-af80-4ee5-b0f2-22a2dd7ad7cb",
   "metadata": {},
   "outputs": [
    {
     "data": {
      "text/plain": [
       "array([[ 2,  5,  5, 13],\n",
       "       [15,  5, 12,  1],\n",
       "       [ 6,  9, 13, 12],\n",
       "       [ 4,  7, 19,  9],\n",
       "       [16,  6, 16,  5]], dtype=int32)"
      ]
     },
     "execution_count": 18,
     "metadata": {},
     "output_type": "execute_result"
    }
   ],
   "source": [
    "arr[2]"
   ]
  },
  {
   "cell_type": "code",
   "execution_count": 19,
   "id": "0228ded8-601a-4cea-a882-75f378957f30",
   "metadata": {},
   "outputs": [
    {
     "data": {
      "text/plain": [
       "array([ 2, 10, 12,  6], dtype=int32)"
      ]
     },
     "execution_count": 19,
     "metadata": {},
     "output_type": "execute_result"
    }
   ],
   "source": [
    "arr[1,3]"
   ]
  },
  {
   "cell_type": "code",
   "execution_count": 20,
   "id": "4bdb2d16-b2c6-4daf-b74e-153be5b65085",
   "metadata": {},
   "outputs": [
    {
     "data": {
      "text/plain": [
       "np.int32(12)"
      ]
     },
     "execution_count": 20,
     "metadata": {},
     "output_type": "execute_result"
    }
   ],
   "source": [
    "arr[1,3,2]"
   ]
  },
  {
   "cell_type": "markdown",
   "id": "52105a46-8e3c-4231-b2d8-5ff5dd7bb29f",
   "metadata": {},
   "source": [
    "#### Slicing"
   ]
  },
  {
   "cell_type": "code",
   "execution_count": 21,
   "id": "311cc7c6-10ab-455b-997e-d52fddfd7639",
   "metadata": {},
   "outputs": [],
   "source": [
    "arr= np.random.randint(1,20,(5,5))"
   ]
  },
  {
   "cell_type": "code",
   "execution_count": 22,
   "id": "8e4df524-df2b-4c01-8f89-05e7f36e5561",
   "metadata": {},
   "outputs": [
    {
     "data": {
      "text/plain": [
       "array([[ 5, 19, 16, 11, 18],\n",
       "       [ 9, 15, 12,  8, 10],\n",
       "       [ 2,  9,  4,  4, 11],\n",
       "       [ 4,  7, 16,  1, 19],\n",
       "       [12,  2, 18, 15, 15]], dtype=int32)"
      ]
     },
     "execution_count": 22,
     "metadata": {},
     "output_type": "execute_result"
    }
   ],
   "source": [
    "arr"
   ]
  },
  {
   "cell_type": "code",
   "execution_count": 130,
   "id": "99f004fa-cf4b-4258-906c-8d9d486cd1a5",
   "metadata": {},
   "outputs": [
    {
     "data": {
      "text/plain": [
       "array([[7, 8]])"
      ]
     },
     "execution_count": 130,
     "metadata": {},
     "output_type": "execute_result"
    }
   ],
   "source": [
    "#pehle row ki fir coloumn ki(start :upto but not included)\n",
    "arr[2:4 , 1:3]"
   ]
  },
  {
   "cell_type": "code",
   "execution_count": 26,
   "id": "0249883c-5149-4ad5-8d6e-d041097f7cfa",
   "metadata": {},
   "outputs": [
    {
     "data": {
      "text/plain": [
       "array([ 2,  9,  4,  4, 11], dtype=int32)"
      ]
     },
     "execution_count": 26,
     "metadata": {},
     "output_type": "execute_result"
    }
   ],
   "source": [
    "arr[2]"
   ]
  },
  {
   "cell_type": "code",
   "execution_count": 27,
   "id": "77150fe1-bcbe-4b98-b82e-b2e1e9ad9968",
   "metadata": {},
   "outputs": [],
   "source": [
    "arr = np.random.randint(1,20,(3,5,4))"
   ]
  },
  {
   "cell_type": "code",
   "execution_count": 28,
   "id": "0b0374a0-6a53-4f0a-beb0-add42599170e",
   "metadata": {},
   "outputs": [
    {
     "data": {
      "text/plain": [
       "array([[[ 6,  7, 10,  5],\n",
       "        [10,  1, 16, 17],\n",
       "        [18, 17,  5, 12],\n",
       "        [ 2,  6, 14,  4],\n",
       "        [15,  3,  9,  7]],\n",
       "\n",
       "       [[ 1, 15, 14,  5],\n",
       "        [17, 15,  5, 12],\n",
       "        [17, 18, 15, 16],\n",
       "        [ 4,  5, 10,  5],\n",
       "        [ 8, 18, 14, 10]],\n",
       "\n",
       "       [[15, 14, 16,  4],\n",
       "        [ 7, 13, 11, 15],\n",
       "        [ 1, 14, 14,  1],\n",
       "        [ 9, 16, 14,  1],\n",
       "        [11, 15, 13,  5]]], dtype=int32)"
      ]
     },
     "execution_count": 28,
     "metadata": {},
     "output_type": "execute_result"
    }
   ],
   "source": [
    "arr"
   ]
  },
  {
   "cell_type": "code",
   "execution_count": 29,
   "id": "65246b0e-a964-410d-96ba-a31839a1bd11",
   "metadata": {},
   "outputs": [
    {
     "data": {
      "text/plain": [
       "array([[15, 14, 16,  4],\n",
       "       [ 7, 13, 11, 15],\n",
       "       [ 1, 14, 14,  1],\n",
       "       [ 9, 16, 14,  1],\n",
       "       [11, 15, 13,  5]], dtype=int32)"
      ]
     },
     "execution_count": 29,
     "metadata": {},
     "output_type": "execute_result"
    }
   ],
   "source": [
    "arr[2]"
   ]
  },
  {
   "cell_type": "code",
   "execution_count": 36,
   "id": "275334f3-ffda-4c0f-b55f-42cad5be72dd",
   "metadata": {},
   "outputs": [
    {
     "data": {
      "text/plain": [
       "array([[ 1, 14, 14],\n",
       "       [ 9, 16, 14],\n",
       "       [11, 15, 13]], dtype=int32)"
      ]
     },
     "execution_count": 36,
     "metadata": {},
     "output_type": "execute_result"
    }
   ],
   "source": [
    "#layer2,row 2: , col1:upto col3\n",
    "arr[2,2:,0:3]"
   ]
  },
  {
   "cell_type": "code",
   "execution_count": 37,
   "id": "2c32e5c8-56bb-4ae9-8975-958493e957c9",
   "metadata": {},
   "outputs": [
    {
     "data": {
      "text/plain": [
       "array([[ 9, 16],\n",
       "       [11, 15]], dtype=int32)"
      ]
     },
     "execution_count": 37,
     "metadata": {},
     "output_type": "execute_result"
    }
   ],
   "source": [
    "arr[2,2:,0:3][1:,0:2]"
   ]
  },
  {
   "cell_type": "code",
   "execution_count": 38,
   "id": "9d2afbf1-b8b8-4d2f-9a38-512df107f442",
   "metadata": {},
   "outputs": [
    {
     "data": {
      "text/plain": [
       "array([[[ 6,  7, 10,  5],\n",
       "        [10,  1, 16, 17],\n",
       "        [18, 17,  5, 12],\n",
       "        [ 2,  6, 14,  4],\n",
       "        [15,  3,  9,  7]],\n",
       "\n",
       "       [[ 1, 15, 14,  5],\n",
       "        [17, 15,  5, 12],\n",
       "        [17, 18, 15, 16],\n",
       "        [ 4,  5, 10,  5],\n",
       "        [ 8, 18, 14, 10]],\n",
       "\n",
       "       [[15, 14, 16,  4],\n",
       "        [ 7, 13, 11, 15],\n",
       "        [ 1, 14, 14,  1],\n",
       "        [ 9, 16, 14,  1],\n",
       "        [11, 15, 13,  5]]], dtype=int32)"
      ]
     },
     "execution_count": 38,
     "metadata": {},
     "output_type": "execute_result"
    }
   ],
   "source": [
    "arr"
   ]
  },
  {
   "cell_type": "code",
   "execution_count": 43,
   "id": "95ac60fc-b57d-4c09-bb3a-d45b2b692009",
   "metadata": {},
   "outputs": [
    {
     "data": {
      "text/plain": [
       "array([[[10,  1, 16, 17],\n",
       "        [18, 17,  5, 12],\n",
       "        [ 2,  6, 14,  4]],\n",
       "\n",
       "       [[17, 15,  5, 12],\n",
       "        [17, 18, 15, 16],\n",
       "        [ 4,  5, 10,  5]],\n",
       "\n",
       "       [[ 7, 13, 11, 15],\n",
       "        [ 1, 14, 14,  1],\n",
       "        [ 9, 16, 14,  1]]], dtype=int32)"
      ]
     },
     "execution_count": 43,
     "metadata": {},
     "output_type": "execute_result"
    }
   ],
   "source": [
    "arr[:,1:4]"
   ]
  },
  {
   "cell_type": "code",
   "execution_count": 60,
   "id": "038ef651-4511-4324-ad81-f9bc0ea82713",
   "metadata": {},
   "outputs": [
    {
     "data": {
      "text/plain": [
       "np.int32(13)"
      ]
     },
     "execution_count": 60,
     "metadata": {},
     "output_type": "execute_result"
    }
   ],
   "source": [
    "arr[2 , -1 ,-2]"
   ]
  },
  {
   "cell_type": "code",
   "execution_count": 61,
   "id": "a9c4ce6c-76f1-46d0-983b-78e974f17e37",
   "metadata": {},
   "outputs": [
    {
     "data": {
      "text/plain": [
       "array([[[ 1, 16],\n",
       "        [17,  5],\n",
       "        [ 6, 14]],\n",
       "\n",
       "       [[15,  5],\n",
       "        [18, 15],\n",
       "        [ 5, 10]],\n",
       "\n",
       "       [[13, 11],\n",
       "        [14, 14],\n",
       "        [16, 14]]], dtype=int32)"
      ]
     },
     "execution_count": 61,
     "metadata": {},
     "output_type": "execute_result"
    }
   ],
   "source": [
    "arr[:,1:4,1:3]"
   ]
  },
  {
   "cell_type": "code",
   "execution_count": 62,
   "id": "eb6082ec-7456-4abd-ab3d-97db467b5acc",
   "metadata": {},
   "outputs": [],
   "source": [
    "arr1 = np.random.randint(1,50,(5,5,5))"
   ]
  },
  {
   "cell_type": "code",
   "execution_count": 63,
   "id": "75ddd5d4-d77c-4882-9d34-c9e9fd4a00a0",
   "metadata": {},
   "outputs": [
    {
     "data": {
      "text/plain": [
       "array([[[14, 25, 47, 48, 35],\n",
       "        [28, 46, 40,  6, 10],\n",
       "        [21,  8,  9, 18, 16],\n",
       "        [44,  5, 45, 19, 11],\n",
       "        [ 6, 33, 24, 26, 46]],\n",
       "\n",
       "       [[26, 20, 17,  2, 41],\n",
       "        [36,  4, 11, 33, 19],\n",
       "        [10, 48, 11, 42,  7],\n",
       "        [47, 22, 22,  2, 29],\n",
       "        [ 7, 48, 31, 26, 29]],\n",
       "\n",
       "       [[ 1, 26, 28, 33, 36],\n",
       "        [34, 28, 48, 44,  3],\n",
       "        [36, 24,  6,  9, 37],\n",
       "        [ 3,  2,  8, 37, 36],\n",
       "        [32, 18, 38, 36, 21]],\n",
       "\n",
       "       [[44, 10, 43, 31, 18],\n",
       "        [14, 13, 36, 18,  1],\n",
       "        [12, 13, 29,  1,  7],\n",
       "        [45, 29, 24,  2, 37],\n",
       "        [13, 21, 33, 37, 28]],\n",
       "\n",
       "       [[40, 46,  4, 46, 26],\n",
       "        [16, 31,  5, 30, 18],\n",
       "        [12, 39, 36, 32, 30],\n",
       "        [36, 42, 15, 14, 28],\n",
       "        [ 9, 40, 32, 47,  9]]], dtype=int32)"
      ]
     },
     "execution_count": 63,
     "metadata": {},
     "output_type": "execute_result"
    }
   ],
   "source": [
    "arr1"
   ]
  },
  {
   "cell_type": "code",
   "execution_count": 131,
   "id": "d6a2c3ed-a26c-465a-8cb4-15e90b0db1cd",
   "metadata": {},
   "outputs": [
    {
     "data": {
      "text/plain": [
       "array([[ 6, 33, 24, 26, 46],\n",
       "       [ 7, 48, 31, 26, 29],\n",
       "       [32, 18, 38, 36, 21],\n",
       "       [13, 21, 33, 37, 28],\n",
       "       [ 9, 40, 32, 47,  9]], dtype=int32)"
      ]
     },
     "execution_count": 131,
     "metadata": {},
     "output_type": "execute_result"
    }
   ],
   "source": [
    "arr1[:,4]"
   ]
  },
  {
   "cell_type": "code",
   "execution_count": 65,
   "id": "f06820b3-6fbf-41c9-8c3b-2397894f025c",
   "metadata": {},
   "outputs": [
    {
     "data": {
      "text/plain": [
       "array([[[17,  5],\n",
       "        [ 6, 14]],\n",
       "\n",
       "       [[18, 15],\n",
       "        [ 5, 10]],\n",
       "\n",
       "       [[14, 14],\n",
       "        [16, 14]]], dtype=int32)"
      ]
     },
     "execution_count": 65,
     "metadata": {},
     "output_type": "execute_result"
    }
   ],
   "source": [
    "arr[:,2:4 , 1:3]"
   ]
  },
  {
   "cell_type": "code",
   "execution_count": 67,
   "id": "9d6f87aa-51b7-4199-800b-ea6f9db52e20",
   "metadata": {},
   "outputs": [],
   "source": [
    "arr= np.random.randint(1,10,(4,4))"
   ]
  },
  {
   "cell_type": "code",
   "execution_count": 68,
   "id": "1e40be27-5b51-4eff-bf69-7b7bbf794b31",
   "metadata": {},
   "outputs": [
    {
     "data": {
      "text/plain": [
       "array([[1, 7, 8, 9],\n",
       "       [4, 4, 9, 4],\n",
       "       [1, 1, 7, 7],\n",
       "       [4, 7, 4, 9]], dtype=int32)"
      ]
     },
     "execution_count": 68,
     "metadata": {},
     "output_type": "execute_result"
    }
   ],
   "source": [
    "arr"
   ]
  },
  {
   "cell_type": "code",
   "execution_count": 70,
   "id": "bce523a0-39d6-47ab-9e37-ae5d99f41e32",
   "metadata": {},
   "outputs": [
    {
     "data": {
      "text/plain": [
       "array([4, 7, 4, 9], dtype=int32)"
      ]
     },
     "execution_count": 70,
     "metadata": {},
     "output_type": "execute_result"
    }
   ],
   "source": [
    "#-1 se last row bahr aa jati hai\n",
    "arr[-1]"
   ]
  },
  {
   "cell_type": "code",
   "execution_count": 71,
   "id": "7c5f4e8b-113a-4ab7-afc6-f17c355d5c20",
   "metadata": {},
   "outputs": [
    {
     "data": {
      "text/plain": [
       "np.int32(7)"
      ]
     },
     "execution_count": 71,
     "metadata": {},
     "output_type": "execute_result"
    }
   ],
   "source": [
    "arr[-1,1]"
   ]
  },
  {
   "cell_type": "code",
   "execution_count": 76,
   "id": "4b12ab09-f953-4244-90f8-e85711239714",
   "metadata": {},
   "outputs": [],
   "source": [
    "#u can change the number by positioning \n",
    "arr[-1,1] = 9"
   ]
  },
  {
   "cell_type": "code",
   "execution_count": 77,
   "id": "334996cc-d777-4af9-bb47-bfb463a015f9",
   "metadata": {},
   "outputs": [
    {
     "data": {
      "text/plain": [
       "array([[1, 7, 8, 9],\n",
       "       [4, 4, 9, 4],\n",
       "       [1, 1, 7, 7],\n",
       "       [4, 9, 4, 9]], dtype=int32)"
      ]
     },
     "execution_count": 77,
     "metadata": {},
     "output_type": "execute_result"
    }
   ],
   "source": [
    "arr"
   ]
  },
  {
   "cell_type": "code",
   "execution_count": 82,
   "id": "a853802a-a0a5-4c3d-89f3-a1e7c8a948cd",
   "metadata": {},
   "outputs": [],
   "source": [
    "#agr sabhi values ki baat change krni ho\n",
    "arr[2:,0:2] = 5"
   ]
  },
  {
   "cell_type": "code",
   "execution_count": 83,
   "id": "05933baa-42e6-4efc-9ca3-f9321b536119",
   "metadata": {},
   "outputs": [
    {
     "data": {
      "text/plain": [
       "array([[1, 7, 8, 9],\n",
       "       [4, 4, 9, 4],\n",
       "       [5, 5, 7, 7],\n",
       "       [5, 5, 4, 9]], dtype=int32)"
      ]
     },
     "execution_count": 83,
     "metadata": {},
     "output_type": "execute_result"
    }
   ],
   "source": [
    "arr"
   ]
  },
  {
   "cell_type": "code",
   "execution_count": 128,
   "id": "ea120135-6096-4825-be5c-8d07b58bc7aa",
   "metadata": {},
   "outputs": [],
   "source": [
    "a=arr[-2:,-2:]"
   ]
  },
  {
   "cell_type": "code",
   "execution_count": 122,
   "id": "50cd46fc-1190-4544-ac66-c48f5cb9679f",
   "metadata": {},
   "outputs": [
    {
     "data": {
      "text/plain": [
       "array([[4, 5],\n",
       "       [7, 8]])"
      ]
     },
     "execution_count": 122,
     "metadata": {},
     "output_type": "execute_result"
    }
   ],
   "source": [
    "a"
   ]
  },
  {
   "cell_type": "code",
   "execution_count": 123,
   "id": "21b9c1a4-d5e1-4a39-bd49-337538780512",
   "metadata": {},
   "outputs": [
    {
     "data": {
      "text/plain": [
       "array([[50,  1,  2],\n",
       "       [ 3,  4,  5],\n",
       "       [ 6,  7,  8]])"
      ]
     },
     "execution_count": 123,
     "metadata": {},
     "output_type": "execute_result"
    }
   ],
   "source": [
    "arr"
   ]
  },
  {
   "cell_type": "code",
   "execution_count": 124,
   "id": "eeecc876-8a3b-4eca-97ac-9f38ae0173b2",
   "metadata": {},
   "outputs": [],
   "source": [
    "a[0,-1] = 100"
   ]
  },
  {
   "cell_type": "code",
   "execution_count": 125,
   "id": "d5030e15-0882-4493-81f5-d8aa579c1410",
   "metadata": {},
   "outputs": [
    {
     "data": {
      "text/plain": [
       "array([[  4, 100],\n",
       "       [  7,   8]])"
      ]
     },
     "execution_count": 125,
     "metadata": {},
     "output_type": "execute_result"
    }
   ],
   "source": [
    "#a mai bhi change ho geya \n",
    "a"
   ]
  },
  {
   "cell_type": "code",
   "execution_count": 132,
   "id": "d6063f2b-1209-4dc8-8893-b8abf80833e5",
   "metadata": {},
   "outputs": [
    {
     "data": {
      "text/plain": [
       "array([[50,  1,  2],\n",
       "       [ 3,  4,  5],\n",
       "       [ 6,  7,  8]])"
      ]
     },
     "execution_count": 132,
     "metadata": {},
     "output_type": "execute_result"
    }
   ],
   "source": [
    "#or  original array me bhi change hogeya \n",
    "arr"
   ]
  },
  {
   "cell_type": "code",
   "execution_count": 133,
   "id": "7d77659e-2dad-4582-b789-818bae9f5cf6",
   "metadata": {},
   "outputs": [],
   "source": [
    "a[0,-1] = 100"
   ]
  },
  {
   "cell_type": "code",
   "execution_count": 134,
   "id": "7b0baa98-f6e8-42e9-ab75-a40b4ae109a4",
   "metadata": {},
   "outputs": [
    {
     "data": {
      "text/plain": [
       "array([[  4, 100],\n",
       "       [  7,   8]])"
      ]
     },
     "execution_count": 134,
     "metadata": {},
     "output_type": "execute_result"
    }
   ],
   "source": [
    "a"
   ]
  },
  {
   "cell_type": "code",
   "execution_count": 135,
   "id": "a9fa3214-dd22-42a8-a825-c29503207378",
   "metadata": {},
   "outputs": [
    {
     "data": {
      "text/plain": [
       "array([[  4, 100],\n",
       "       [  7,   8]])"
      ]
     },
     "execution_count": 135,
     "metadata": {},
     "output_type": "execute_result"
    }
   ],
   "source": [
    "a"
   ]
  },
  {
   "cell_type": "code",
   "execution_count": 136,
   "id": "c57c6f10-36ee-42e8-a3d7-d4bdbfa0fdd3",
   "metadata": {},
   "outputs": [
    {
     "data": {
      "text/plain": [
       "array([[ 50,   1,   2],\n",
       "       [  3,   4, 100],\n",
       "       [  6,   7,   8]])"
      ]
     },
     "execution_count": 136,
     "metadata": {},
     "output_type": "execute_result"
    }
   ],
   "source": [
    "arr"
   ]
  },
  {
   "cell_type": "code",
   "execution_count": 110,
   "id": "5c076601-ac4d-47b5-bfbb-41fd9ed7f980",
   "metadata": {},
   "outputs": [],
   "source": [
    "arr = np.arange(9)\n",
    "arr = arr.reshape(3,3)"
   ]
  },
  {
   "cell_type": "raw",
   "id": "c39f1936-3ef8-4c0f-ac28-eebdc5af2aa0",
   "metadata": {},
   "source": []
  },
  {
   "cell_type": "code",
   "execution_count": 111,
   "id": "e5a5b9fd-a3e2-4354-9bac-4f832ff83a00",
   "metadata": {},
   "outputs": [
    {
     "data": {
      "text/plain": [
       "array([[0, 1, 2],\n",
       "       [3, 4, 5],\n",
       "       [6, 7, 8]])"
      ]
     },
     "execution_count": 111,
     "metadata": {},
     "output_type": "execute_result"
    }
   ],
   "source": [
    "arr"
   ]
  },
  {
   "cell_type": "code",
   "execution_count": 137,
   "id": "398d5c33-3adc-4f5b-907a-2e55e1d518e9",
   "metadata": {},
   "outputs": [],
   "source": [
    "a = arr"
   ]
  },
  {
   "cell_type": "code",
   "execution_count": 138,
   "id": "7d91f0c5-1f42-4b25-8b13-242aaa4f868a",
   "metadata": {},
   "outputs": [],
   "source": [
    "b = arr.copy()"
   ]
  },
  {
   "cell_type": "code",
   "execution_count": 139,
   "id": "d81fce7c-d255-44ae-b3dd-2c7f143362f9",
   "metadata": {},
   "outputs": [],
   "source": [
    "a[0][0] = 50"
   ]
  },
  {
   "cell_type": "code",
   "execution_count": 140,
   "id": "358cb993-b58f-45ff-a428-bab40d05a069",
   "metadata": {},
   "outputs": [
    {
     "data": {
      "text/plain": [
       "array([[ 50,   1,   2],\n",
       "       [  3,   4, 100],\n",
       "       [  6,   7,   8]])"
      ]
     },
     "execution_count": 140,
     "metadata": {},
     "output_type": "execute_result"
    }
   ],
   "source": [
    "arr"
   ]
  },
  {
   "cell_type": "code",
   "execution_count": 141,
   "id": "08dab407-9f99-4be1-9ee9-5b909b146f1e",
   "metadata": {},
   "outputs": [],
   "source": [
    "b[0,0] = 100"
   ]
  },
  {
   "cell_type": "code",
   "execution_count": 142,
   "id": "2aa78eac-02b4-46c1-b564-b1e3bbfe9fa2",
   "metadata": {},
   "outputs": [
    {
     "data": {
      "text/plain": [
       "array([[100,   1,   2],\n",
       "       [  3,   4, 100],\n",
       "       [  6,   7,   8]])"
      ]
     },
     "execution_count": 142,
     "metadata": {},
     "output_type": "execute_result"
    }
   ],
   "source": [
    "b"
   ]
  },
  {
   "cell_type": "code",
   "execution_count": 143,
   "id": "bd3ad512-6845-4adf-abad-694fdeccdad9",
   "metadata": {},
   "outputs": [
    {
     "data": {
      "text/plain": [
       "array([[ 50,   1,   2],\n",
       "       [  3,   4, 100],\n",
       "       [  6,   7,   8]])"
      ]
     },
     "execution_count": 143,
     "metadata": {},
     "output_type": "execute_result"
    }
   ],
   "source": [
    "arr"
   ]
  },
  {
   "cell_type": "code",
   "execution_count": null,
   "id": "ad484c99-880d-41ca-a058-87323ece29e8",
   "metadata": {},
   "outputs": [],
   "source": []
  }
 ],
 "metadata": {
  "kernelspec": {
   "display_name": "Python [conda env:base] *",
   "language": "python",
   "name": "conda-base-py"
  },
  "language_info": {
   "codemirror_mode": {
    "name": "ipython",
    "version": 3
   },
   "file_extension": ".py",
   "mimetype": "text/x-python",
   "name": "python",
   "nbconvert_exporter": "python",
   "pygments_lexer": "ipython3",
   "version": "3.13.5"
  }
 },
 "nbformat": 4,
 "nbformat_minor": 5
}
