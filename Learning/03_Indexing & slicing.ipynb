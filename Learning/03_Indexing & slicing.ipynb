{
 "cells": [
  {
   "cell_type": "code",
   "execution_count": 1,
   "id": "a0a983fa-098f-4e6c-9531-f241971e87e5",
   "metadata": {},
   "outputs": [],
   "source": [
    "import numpy as np"
   ]
  },
  {
   "cell_type": "code",
   "execution_count": 2,
   "id": "1fcba15e-175b-4c6a-81dc-26a4fe81000d",
   "metadata": {},
   "outputs": [],
   "source": [
    "#seed fuction is for random function jo bhi isse use krenga uska same number aayega also same number has same randm numbers\n",
    "np.random.seed(50)"
   ]
  },
  {
   "cell_type": "code",
   "execution_count": 3,
   "id": "04d8489f-195a-4002-898c-1d54abc1c1a6",
   "metadata": {},
   "outputs": [],
   "source": [
    "arr = np.random.randint(1,20,(3,3))"
   ]
  },
  {
   "cell_type": "code",
   "execution_count": 4,
   "id": "a7bfccf7-d4ff-4558-83d5-3851f8b8bef8",
   "metadata": {},
   "outputs": [
    {
     "data": {
      "text/plain": [
       "array([[17,  1, 12],\n",
       "       [14,  2,  5],\n",
       "       [ 7,  6,  7]], dtype=int32)"
      ]
     },
     "execution_count": 4,
     "metadata": {},
     "output_type": "execute_result"
    }
   ],
   "source": [
    "arr"
   ]
  },
  {
   "cell_type": "markdown",
   "id": "93b33334-d2c3-4445-96d2-d5b0508f1688",
   "metadata": {},
   "source": [
    "### Indexing"
   ]
  },
  {
   "cell_type": "code",
   "execution_count": 5,
   "id": "305b0ff4-885e-4c14-9cc1-fdae3a9b3923",
   "metadata": {},
   "outputs": [
    {
     "data": {
      "text/plain": [
       "array([7, 6, 7], dtype=int32)"
      ]
     },
     "execution_count": 5,
     "metadata": {},
     "output_type": "execute_result"
    }
   ],
   "source": [
    "#0,1,2....pehle row fir coloumn\n",
    "arr[2]"
   ]
  },
  {
   "cell_type": "code",
   "execution_count": 6,
   "id": "3d47a564-964b-4221-a68b-d20debaab59b",
   "metadata": {},
   "outputs": [
    {
     "data": {
      "text/plain": [
       "np.int32(7)"
      ]
     },
     "execution_count": 6,
     "metadata": {},
     "output_type": "execute_result"
    }
   ],
   "source": [
    "#row\n",
    "arr[2][0]"
   ]
  },
  {
   "cell_type": "code",
   "execution_count": 7,
   "id": "3ba3e791-f37f-4a9c-9b11-c6313d0f2fab",
   "metadata": {},
   "outputs": [
    {
     "data": {
      "text/plain": [
       "array([12,  5,  7], dtype=int32)"
      ]
     },
     "execution_count": 7,
     "metadata": {},
     "output_type": "execute_result"
    }
   ],
   "source": [
    "#coloumn\n",
    "arr[:,2]"
   ]
  },
  {
   "cell_type": "code",
   "execution_count": 8,
   "id": "e9e91a0a-7e58-4697-a29f-11191ce2572e",
   "metadata": {},
   "outputs": [
    {
     "data": {
      "text/plain": [
       "np.int32(7)"
      ]
     },
     "execution_count": 8,
     "metadata": {},
     "output_type": "execute_result"
    }
   ],
   "source": [
    "#also if i want i can write in one bracket...the row 2 element 0\n",
    "arr[2,0]"
   ]
  },
  {
   "cell_type": "code",
   "execution_count": 9,
   "id": "3c9ddf22-204a-4689-bc6e-726b7a9f977a",
   "metadata": {},
   "outputs": [],
   "source": [
    "arr = np.random.randint(1,20,(3,5,4))"
   ]
  },
  {
   "cell_type": "code",
   "execution_count": 15,
   "id": "ddd342d4-0bed-419b-bd91-8862500f1ff5",
   "metadata": {},
   "outputs": [
    {
     "data": {
      "text/plain": [
       "array([[[12, 18, 11, 10],\n",
       "        [ 1,  7,  3, 16],\n",
       "        [10,  4,  3, 13],\n",
       "        [ 1,  4,  3, 11],\n",
       "        [17, 15,  1,  1]],\n",
       "\n",
       "       [[12,  8, 15, 14],\n",
       "        [ 8,  5,  5,  1],\n",
       "        [12,  1, 14, 14],\n",
       "        [ 2, 10, 12,  6],\n",
       "        [ 1, 16,  6,  7]],\n",
       "\n",
       "       [[ 2,  5,  5, 13],\n",
       "        [15,  5, 12,  1],\n",
       "        [ 6,  9, 13, 12],\n",
       "        [ 4,  7, 19,  9],\n",
       "        [16,  6, 16,  5]]], dtype=int32)"
      ]
     },
     "execution_count": 15,
     "metadata": {},
     "output_type": "execute_result"
    }
   ],
   "source": [
    "arr"
   ]
  },
  {
   "cell_type": "code",
   "execution_count": 10,
   "id": "9c5bde05-4ba4-4845-816c-470eb8e91ed3",
   "metadata": {},
   "outputs": [
    {
     "data": {
      "text/plain": [
       "array([[13,  1,  4,  3],\n",
       "       [11, 17, 15,  1],\n",
       "       [ 1, 12,  8, 15],\n",
       "       [14,  8,  5,  5],\n",
       "       [ 1, 12,  1, 14]], dtype=int32)"
      ]
     },
     "execution_count": 10,
     "metadata": {},
     "output_type": "execute_result"
    }
   ],
   "source": [
    "arr[1]"
   ]
  },
  {
   "cell_type": "code",
   "execution_count": 11,
   "id": "ea752fb3-af80-4ee5-b0f2-22a2dd7ad7cb",
   "metadata": {},
   "outputs": [
    {
     "data": {
      "text/plain": [
       "array([[14,  2, 10, 12],\n",
       "       [ 6,  1, 16,  6],\n",
       "       [ 7,  2,  5,  5],\n",
       "       [13, 15,  5, 12],\n",
       "       [ 1,  6,  9, 13]], dtype=int32)"
      ]
     },
     "execution_count": 11,
     "metadata": {},
     "output_type": "execute_result"
    }
   ],
   "source": [
    "arr[2]"
   ]
  },
  {
   "cell_type": "code",
   "execution_count": 12,
   "id": "0228ded8-601a-4cea-a882-75f378957f30",
   "metadata": {},
   "outputs": [
    {
     "data": {
      "text/plain": [
       "array([14,  8,  5,  5], dtype=int32)"
      ]
     },
     "execution_count": 12,
     "metadata": {},
     "output_type": "execute_result"
    }
   ],
   "source": [
    "arr[1,3]"
   ]
  },
  {
   "cell_type": "code",
   "execution_count": 13,
   "id": "4bdb2d16-b2c6-4daf-b74e-153be5b65085",
   "metadata": {},
   "outputs": [
    {
     "data": {
      "text/plain": [
       "np.int32(5)"
      ]
     },
     "execution_count": 13,
     "metadata": {},
     "output_type": "execute_result"
    }
   ],
   "source": [
    "arr[1,3,2]"
   ]
  },
  {
   "cell_type": "code",
   "execution_count": 16,
   "id": "a550dd6d-6abd-42ef-948d-ed385d54db73",
   "metadata": {},
   "outputs": [
    {
     "data": {
      "text/plain": [
       "array([[14,  6,  3,  8],\n",
       "       [16,  5, 15,  4],\n",
       "       [ 7, 12, 18, 11],\n",
       "       [10,  1,  7,  3],\n",
       "       [16, 10,  4,  3]], dtype=int32)"
      ]
     },
     "execution_count": 16,
     "metadata": {},
     "output_type": "execute_result"
    }
   ],
   "source": [
    "arr[0]"
   ]
  },
  {
   "cell_type": "code",
   "execution_count": 17,
   "id": "7a4d64f0-3e46-4ba2-a7d9-70cd68457ffc",
   "metadata": {},
   "outputs": [
    {
     "data": {
      "text/plain": [
       "array([ 7, 12, 18, 11], dtype=int32)"
      ]
     },
     "execution_count": 17,
     "metadata": {},
     "output_type": "execute_result"
    }
   ],
   "source": [
    "arr[0,2]"
   ]
  },
  {
   "cell_type": "code",
   "execution_count": 18,
   "id": "c73c5d58-1061-422a-8c1b-8153d6a65e59",
   "metadata": {},
   "outputs": [
    {
     "data": {
      "text/plain": [
       "array([[14,  2, 10, 12],\n",
       "       [ 6,  1, 16,  6],\n",
       "       [ 7,  2,  5,  5],\n",
       "       [13, 15,  5, 12],\n",
       "       [ 1,  6,  9, 13]], dtype=int32)"
      ]
     },
     "execution_count": 18,
     "metadata": {},
     "output_type": "execute_result"
    }
   ],
   "source": [
    "arr[-1]"
   ]
  },
  {
   "cell_type": "code",
   "execution_count": 19,
   "id": "34be7174-a5a6-47de-bd6e-1b317d845d58",
   "metadata": {},
   "outputs": [
    {
     "data": {
      "text/plain": [
       "array([[[14,  2, 10, 12],\n",
       "        [ 6,  1, 16,  6],\n",
       "        [ 7,  2,  5,  5],\n",
       "        [13, 15,  5, 12],\n",
       "        [ 1,  6,  9, 13]],\n",
       "\n",
       "       [[13,  1,  4,  3],\n",
       "        [11, 17, 15,  1],\n",
       "        [ 1, 12,  8, 15],\n",
       "        [14,  8,  5,  5],\n",
       "        [ 1, 12,  1, 14]],\n",
       "\n",
       "       [[14,  6,  3,  8],\n",
       "        [16,  5, 15,  4],\n",
       "        [ 7, 12, 18, 11],\n",
       "        [10,  1,  7,  3],\n",
       "        [16, 10,  4,  3]]], dtype=int32)"
      ]
     },
     "execution_count": 19,
     "metadata": {},
     "output_type": "execute_result"
    }
   ],
   "source": [
    "arr[::-1]"
   ]
  },
  {
   "cell_type": "code",
   "execution_count": 20,
   "id": "5566c82a-948e-4eab-af67-d52464465309",
   "metadata": {},
   "outputs": [
    {
     "data": {
      "text/plain": [
       "array([[[14,  6,  3,  8],\n",
       "        [16,  5, 15,  4],\n",
       "        [ 7, 12, 18, 11],\n",
       "        [10,  1,  7,  3],\n",
       "        [16, 10,  4,  3]],\n",
       "\n",
       "       [[13,  1,  4,  3],\n",
       "        [11, 17, 15,  1],\n",
       "        [ 1, 12,  8, 15],\n",
       "        [14,  8,  5,  5],\n",
       "        [ 1, 12,  1, 14]],\n",
       "\n",
       "       [[14,  2, 10, 12],\n",
       "        [ 6,  1, 16,  6],\n",
       "        [ 7,  2,  5,  5],\n",
       "        [13, 15,  5, 12],\n",
       "        [ 1,  6,  9, 13]]], dtype=int32)"
      ]
     },
     "execution_count": 20,
     "metadata": {},
     "output_type": "execute_result"
    }
   ],
   "source": [
    "arr[0:3]"
   ]
  },
  {
   "cell_type": "code",
   "execution_count": 21,
   "id": "f25b3c5a-b4d8-4d4e-a860-b5cbc40bf18d",
   "metadata": {},
   "outputs": [
    {
     "data": {
      "text/plain": [
       "array([[[14,  6,  3,  8],\n",
       "        [16,  5, 15,  4],\n",
       "        [ 7, 12, 18, 11],\n",
       "        [10,  1,  7,  3],\n",
       "        [16, 10,  4,  3]],\n",
       "\n",
       "       [[13,  1,  4,  3],\n",
       "        [11, 17, 15,  1],\n",
       "        [ 1, 12,  8, 15],\n",
       "        [14,  8,  5,  5],\n",
       "        [ 1, 12,  1, 14]],\n",
       "\n",
       "       [[14,  2, 10, 12],\n",
       "        [ 6,  1, 16,  6],\n",
       "        [ 7,  2,  5,  5],\n",
       "        [13, 15,  5, 12],\n",
       "        [ 1,  6,  9, 13]]], dtype=int32)"
      ]
     },
     "execution_count": 21,
     "metadata": {},
     "output_type": "execute_result"
    }
   ],
   "source": [
    "arr"
   ]
  },
  {
   "cell_type": "markdown",
   "id": "52105a46-8e3c-4231-b2d8-5ff5dd7bb29f",
   "metadata": {},
   "source": [
    "#### Slicing"
   ]
  },
  {
   "cell_type": "code",
   "execution_count": 22,
   "id": "311cc7c6-10ab-455b-997e-d52fddfd7639",
   "metadata": {},
   "outputs": [],
   "source": [
    "arr= np.random.randint(1,20,(5,5))"
   ]
  },
  {
   "cell_type": "code",
   "execution_count": 23,
   "id": "8e4df524-df2b-4c01-8f89-05e7f36e5561",
   "metadata": {},
   "outputs": [
    {
     "data": {
      "text/plain": [
       "array([[12,  4,  7, 19,  9],\n",
       "       [16,  6, 16,  5,  5],\n",
       "       [19, 16, 11, 18,  9],\n",
       "       [15, 12,  8, 10,  2],\n",
       "       [ 9,  4,  4, 11,  4]], dtype=int32)"
      ]
     },
     "execution_count": 23,
     "metadata": {},
     "output_type": "execute_result"
    }
   ],
   "source": [
    "arr"
   ]
  },
  {
   "cell_type": "code",
   "execution_count": 26,
   "id": "99f004fa-cf4b-4258-906c-8d9d486cd1a5",
   "metadata": {},
   "outputs": [
    {
     "data": {
      "text/plain": [
       "array([[16, 11],\n",
       "       [12,  8],\n",
       "       [ 4,  4]], dtype=int32)"
      ]
     },
     "execution_count": 26,
     "metadata": {},
     "output_type": "execute_result"
    }
   ],
   "source": [
    "#pehle row ki fir coloumn ki(start :upto but not included)\n",
    "arr[2:5 , 1:3]"
   ]
  },
  {
   "cell_type": "code",
   "execution_count": 27,
   "id": "0249883c-5149-4ad5-8d6e-d041097f7cfa",
   "metadata": {},
   "outputs": [
    {
     "data": {
      "text/plain": [
       "array([19, 16, 11, 18,  9], dtype=int32)"
      ]
     },
     "execution_count": 27,
     "metadata": {},
     "output_type": "execute_result"
    }
   ],
   "source": [
    "arr[2]"
   ]
  },
  {
   "cell_type": "code",
   "execution_count": 28,
   "id": "77150fe1-bcbe-4b98-b82e-b2e1e9ad9968",
   "metadata": {},
   "outputs": [],
   "source": [
    "arr = np.random.randint(1,20,(3,5,4))"
   ]
  },
  {
   "cell_type": "code",
   "execution_count": 30,
   "id": "0b0374a0-6a53-4f0a-beb0-add42599170e",
   "metadata": {},
   "outputs": [
    {
     "data": {
      "text/plain": [
       "array([[[ 7, 16,  1, 19],\n",
       "        [12,  2, 18, 15],\n",
       "        [15,  6,  7, 10],\n",
       "        [ 5, 10,  1, 16],\n",
       "        [17, 18, 17,  5]],\n",
       "\n",
       "       [[12,  2,  6, 14],\n",
       "        [ 4, 15,  3,  9],\n",
       "        [ 7,  1, 15, 14],\n",
       "        [ 5, 17, 15,  5],\n",
       "        [12, 17, 18, 15]],\n",
       "\n",
       "       [[16,  4,  5, 10],\n",
       "        [ 5,  8, 18, 14],\n",
       "        [10, 15, 14, 16],\n",
       "        [ 4,  7, 13, 11],\n",
       "        [15,  1, 14, 14]]], dtype=int32)"
      ]
     },
     "execution_count": 30,
     "metadata": {},
     "output_type": "execute_result"
    }
   ],
   "source": [
    "arr"
   ]
  },
  {
   "cell_type": "code",
   "execution_count": 31,
   "id": "65246b0e-a964-410d-96ba-a31839a1bd11",
   "metadata": {},
   "outputs": [
    {
     "data": {
      "text/plain": [
       "array([[16,  4,  5, 10],\n",
       "       [ 5,  8, 18, 14],\n",
       "       [10, 15, 14, 16],\n",
       "       [ 4,  7, 13, 11],\n",
       "       [15,  1, 14, 14]], dtype=int32)"
      ]
     },
     "execution_count": 31,
     "metadata": {},
     "output_type": "execute_result"
    }
   ],
   "source": [
    "arr[2]"
   ]
  },
  {
   "cell_type": "code",
   "execution_count": 38,
   "id": "275334f3-ffda-4c0f-b55f-42cad5be72dd",
   "metadata": {},
   "outputs": [
    {
     "data": {
      "text/plain": [
       "array([[10, 15, 14],\n",
       "       [ 4,  7, 13],\n",
       "       [15,  1, 14]], dtype=int32)"
      ]
     },
     "execution_count": 38,
     "metadata": {},
     "output_type": "execute_result"
    }
   ],
   "source": [
    "#layer2,row 2: , col1:upto col3\n",
    "arr[2,2:,0:3]"
   ]
  },
  {
   "cell_type": "code",
   "execution_count": 39,
   "id": "2c32e5c8-56bb-4ae9-8975-958493e957c9",
   "metadata": {},
   "outputs": [
    {
     "data": {
      "text/plain": [
       "array([[ 4,  7],\n",
       "       [15,  1]], dtype=int32)"
      ]
     },
     "execution_count": 39,
     "metadata": {},
     "output_type": "execute_result"
    }
   ],
   "source": [
    "arr[2,2:,0:3][1:,0:2]"
   ]
  },
  {
   "cell_type": "code",
   "execution_count": 40,
   "id": "9d2afbf1-b8b8-4d2f-9a38-512df107f442",
   "metadata": {},
   "outputs": [
    {
     "data": {
      "text/plain": [
       "array([[[ 7, 16,  1, 19],\n",
       "        [12,  2, 18, 15],\n",
       "        [15,  6,  7, 10],\n",
       "        [ 5, 10,  1, 16],\n",
       "        [17, 18, 17,  5]],\n",
       "\n",
       "       [[12,  2,  6, 14],\n",
       "        [ 4, 15,  3,  9],\n",
       "        [ 7,  1, 15, 14],\n",
       "        [ 5, 17, 15,  5],\n",
       "        [12, 17, 18, 15]],\n",
       "\n",
       "       [[16,  4,  5, 10],\n",
       "        [ 5,  8, 18, 14],\n",
       "        [10, 15, 14, 16],\n",
       "        [ 4,  7, 13, 11],\n",
       "        [15,  1, 14, 14]]], dtype=int32)"
      ]
     },
     "execution_count": 40,
     "metadata": {},
     "output_type": "execute_result"
    }
   ],
   "source": [
    "arr"
   ]
  },
  {
   "cell_type": "code",
   "execution_count": 41,
   "id": "95ac60fc-b57d-4c09-bb3a-d45b2b692009",
   "metadata": {},
   "outputs": [
    {
     "data": {
      "text/plain": [
       "array([[[12,  2, 18, 15],\n",
       "        [15,  6,  7, 10],\n",
       "        [ 5, 10,  1, 16]],\n",
       "\n",
       "       [[ 4, 15,  3,  9],\n",
       "        [ 7,  1, 15, 14],\n",
       "        [ 5, 17, 15,  5]],\n",
       "\n",
       "       [[ 5,  8, 18, 14],\n",
       "        [10, 15, 14, 16],\n",
       "        [ 4,  7, 13, 11]]], dtype=int32)"
      ]
     },
     "execution_count": 41,
     "metadata": {},
     "output_type": "execute_result"
    }
   ],
   "source": [
    "arr[:,1:4]"
   ]
  },
  {
   "cell_type": "code",
   "execution_count": 44,
   "id": "038ef651-4511-4324-ad81-f9bc0ea82713",
   "metadata": {},
   "outputs": [
    {
     "data": {
      "text/plain": [
       "array([15,  1, 14, 14], dtype=int32)"
      ]
     },
     "execution_count": 44,
     "metadata": {},
     "output_type": "execute_result"
    }
   ],
   "source": [
    "arr[2 ,-1]"
   ]
  },
  {
   "cell_type": "code",
   "execution_count": 45,
   "id": "9b7453bf-64eb-4298-a3ee-e0f3e9d8f690",
   "metadata": {},
   "outputs": [
    {
     "data": {
      "text/plain": [
       "np.int32(14)"
      ]
     },
     "execution_count": 45,
     "metadata": {},
     "output_type": "execute_result"
    }
   ],
   "source": [
    "#2 row,last row,last second col\n",
    "arr[2,-1,-2]"
   ]
  },
  {
   "cell_type": "code",
   "execution_count": 46,
   "id": "d70b0c5d-e652-4ba4-af37-047de4484e6b",
   "metadata": {},
   "outputs": [
    {
     "data": {
      "text/plain": [
       "array([[[ 7, 16,  1, 19],\n",
       "        [12,  2, 18, 15],\n",
       "        [15,  6,  7, 10],\n",
       "        [ 5, 10,  1, 16],\n",
       "        [17, 18, 17,  5]],\n",
       "\n",
       "       [[12,  2,  6, 14],\n",
       "        [ 4, 15,  3,  9],\n",
       "        [ 7,  1, 15, 14],\n",
       "        [ 5, 17, 15,  5],\n",
       "        [12, 17, 18, 15]],\n",
       "\n",
       "       [[16,  4,  5, 10],\n",
       "        [ 5,  8, 18, 14],\n",
       "        [10, 15, 14, 16],\n",
       "        [ 4,  7, 13, 11],\n",
       "        [15,  1, 14, 14]]], dtype=int32)"
      ]
     },
     "execution_count": 46,
     "metadata": {},
     "output_type": "execute_result"
    }
   ],
   "source": [
    "#for all\n",
    "arr[:,]"
   ]
  },
  {
   "cell_type": "code",
   "execution_count": 51,
   "id": "a9c4ce6c-76f1-46d0-983b-78e974f17e37",
   "metadata": {},
   "outputs": [
    {
     "data": {
      "text/plain": [
       "array([[12,  2, 18, 15],\n",
       "       [ 4, 15,  3,  9],\n",
       "       [ 5,  8, 18, 14]], dtype=int32)"
      ]
     },
     "execution_count": 51,
     "metadata": {},
     "output_type": "execute_result"
    }
   ],
   "source": [
    "#sabh ki first row\n",
    "arr[:,1]"
   ]
  },
  {
   "cell_type": "code",
   "execution_count": 54,
   "id": "cd1d7ece-b0f3-4d92-916d-db7ea8bf8491",
   "metadata": {},
   "outputs": [
    {
     "data": {
      "text/plain": [
       "array([[[12,  2, 18, 15],\n",
       "        [15,  6,  7, 10]],\n",
       "\n",
       "       [[ 4, 15,  3,  9],\n",
       "        [ 7,  1, 15, 14]],\n",
       "\n",
       "       [[ 5,  8, 18, 14],\n",
       "        [10, 15, 14, 16]]], dtype=int32)"
      ]
     },
     "execution_count": 54,
     "metadata": {},
     "output_type": "execute_result"
    }
   ],
   "source": [
    "#sabhi k 2 rows between 1,3\n",
    "arr[:,1:3]"
   ]
  },
  {
   "cell_type": "code",
   "execution_count": 56,
   "id": "28528ebe-c0f2-40bd-b6bd-c0a6e0f71184",
   "metadata": {},
   "outputs": [
    {
     "data": {
      "text/plain": [
       "array([[[ 2, 18],\n",
       "        [ 6,  7]],\n",
       "\n",
       "       [[15,  3],\n",
       "        [ 1, 15]],\n",
       "\n",
       "       [[ 8, 18],\n",
       "        [15, 14]]], dtype=int32)"
      ]
     },
     "execution_count": 56,
     "metadata": {},
     "output_type": "execute_result"
    }
   ],
   "source": [
    "arr[:,1:3 ,1:3]"
   ]
  },
  {
   "cell_type": "code",
   "execution_count": 57,
   "id": "98b1e742-6ca8-4630-92b3-b797574a8844",
   "metadata": {},
   "outputs": [
    {
     "data": {
      "text/plain": [
       "array([[15,  3],\n",
       "       [ 1, 15]], dtype=int32)"
      ]
     },
     "execution_count": 57,
     "metadata": {},
     "output_type": "execute_result"
    }
   ],
   "source": [
    "arr[:,1:3 ,1:3][1]"
   ]
  },
  {
   "cell_type": "code",
   "execution_count": 62,
   "id": "46a9bd6a-fd54-41bb-b1bb-2cd72e69b973",
   "metadata": {},
   "outputs": [
    {
     "data": {
      "text/plain": [
       "array([[15,  3],\n",
       "       [ 1, 15]], dtype=int32)"
      ]
     },
     "execution_count": 62,
     "metadata": {},
     "output_type": "execute_result"
    }
   ],
   "source": [
    "arr[1,1:3,1:3]"
   ]
  },
  {
   "cell_type": "code",
   "execution_count": 63,
   "id": "9e051e3a-bbe9-4f66-acbb-55d789e79761",
   "metadata": {},
   "outputs": [],
   "source": [
    "arr1 = np.random.randint(1,50,(5,5,5))"
   ]
  },
  {
   "cell_type": "code",
   "execution_count": 64,
   "id": "75ddd5d4-d77c-4882-9d34-c9e9fd4a00a0",
   "metadata": {},
   "outputs": [
    {
     "data": {
      "text/plain": [
       "array([[[ 1,  9, 48, 46, 33],\n",
       "        [43, 15, 45,  5, 41],\n",
       "        [43, 43, 33,  8, 37],\n",
       "        [26, 12, 27, 46, 33],\n",
       "        [41, 24, 48, 39,  4]],\n",
       "\n",
       "       [[29,  6, 44, 29,  2],\n",
       "        [48, 36,  4,  1, 47],\n",
       "        [43, 13, 38, 13, 33],\n",
       "        [22, 44, 15, 20, 46],\n",
       "        [17, 34, 20, 48, 44]],\n",
       "\n",
       "       [[33,  5, 46, 42, 16],\n",
       "        [19, 32, 23,  3,  6],\n",
       "        [ 2, 34, 26, 11, 19],\n",
       "        [ 9, 15, 18, 16, 29],\n",
       "        [34, 24, 42, 40, 23]],\n",
       "\n",
       "       [[42, 21, 29, 20, 20],\n",
       "        [47, 37,  6,  1, 40],\n",
       "        [40, 49, 28, 25,  3],\n",
       "        [11, 10,  7, 42, 38],\n",
       "        [46, 19, 45, 38, 11]],\n",
       "\n",
       "       [[38, 16, 14, 22,  8],\n",
       "        [39,  1, 44, 49, 40],\n",
       "        [11, 15,  8, 27, 36],\n",
       "        [26, 11, 46, 16,  1],\n",
       "        [30, 46,  1, 43, 20]]], dtype=int32)"
      ]
     },
     "execution_count": 64,
     "metadata": {},
     "output_type": "execute_result"
    }
   ],
   "source": [
    "arr1"
   ]
  },
  {
   "cell_type": "code",
   "execution_count": 71,
   "id": "d6a2c3ed-a26c-465a-8cb4-15e90b0db1cd",
   "metadata": {},
   "outputs": [
    {
     "data": {
      "text/plain": [
       "array([[36,  4,  1, 47],\n",
       "       [13, 38, 13, 33],\n",
       "       [44, 15, 20, 46]], dtype=int32)"
      ]
     },
     "execution_count": 71,
     "metadata": {},
     "output_type": "execute_result"
    }
   ],
   "source": [
    "arr1[:,1:4 , 1:5][1]"
   ]
  },
  {
   "cell_type": "code",
   "execution_count": 72,
   "id": "f06820b3-6fbf-41c9-8c3b-2397894f025c",
   "metadata": {},
   "outputs": [
    {
     "data": {
      "text/plain": [
       "array([[[ 6,  7],\n",
       "        [10,  1]],\n",
       "\n",
       "       [[ 1, 15],\n",
       "        [17, 15]],\n",
       "\n",
       "       [[15, 14],\n",
       "        [ 7, 13]]], dtype=int32)"
      ]
     },
     "execution_count": 72,
     "metadata": {},
     "output_type": "execute_result"
    }
   ],
   "source": [
    "arr[:,2:4 , 1:3]"
   ]
  },
  {
   "cell_type": "code",
   "execution_count": 73,
   "id": "9d6f87aa-51b7-4199-800b-ea6f9db52e20",
   "metadata": {},
   "outputs": [],
   "source": [
    "arr= np.random.randint(1,10,(4,4))"
   ]
  },
  {
   "cell_type": "code",
   "execution_count": 74,
   "id": "1e40be27-5b51-4eff-bf69-7b7bbf794b31",
   "metadata": {},
   "outputs": [
    {
     "data": {
      "text/plain": [
       "array([[1, 5, 2, 5],\n",
       "       [5, 6, 9, 3],\n",
       "       [3, 3, 2, 8],\n",
       "       [6, 6, 5, 8]], dtype=int32)"
      ]
     },
     "execution_count": 74,
     "metadata": {},
     "output_type": "execute_result"
    }
   ],
   "source": [
    "arr"
   ]
  },
  {
   "cell_type": "code",
   "execution_count": 75,
   "id": "bce523a0-39d6-47ab-9e37-ae5d99f41e32",
   "metadata": {},
   "outputs": [
    {
     "data": {
      "text/plain": [
       "array([6, 6, 5, 8], dtype=int32)"
      ]
     },
     "execution_count": 75,
     "metadata": {},
     "output_type": "execute_result"
    }
   ],
   "source": [
    "#-1 se last row bahr aa jati hai\n",
    "arr[-1]"
   ]
  },
  {
   "cell_type": "code",
   "execution_count": 76,
   "id": "7c5f4e8b-113a-4ab7-afc6-f17c355d5c20",
   "metadata": {},
   "outputs": [
    {
     "data": {
      "text/plain": [
       "np.int32(6)"
      ]
     },
     "execution_count": 76,
     "metadata": {},
     "output_type": "execute_result"
    }
   ],
   "source": [
    "arr[-1,1]"
   ]
  },
  {
   "cell_type": "code",
   "execution_count": 77,
   "id": "4b12ab09-f953-4244-90f8-e85711239714",
   "metadata": {},
   "outputs": [],
   "source": [
    "#u can change the number by positioning \n",
    "arr[-1,1] = 9"
   ]
  },
  {
   "cell_type": "code",
   "execution_count": 78,
   "id": "334996cc-d777-4af9-bb47-bfb463a015f9",
   "metadata": {},
   "outputs": [
    {
     "data": {
      "text/plain": [
       "array([[1, 5, 2, 5],\n",
       "       [5, 6, 9, 3],\n",
       "       [3, 3, 2, 8],\n",
       "       [6, 9, 5, 8]], dtype=int32)"
      ]
     },
     "execution_count": 78,
     "metadata": {},
     "output_type": "execute_result"
    }
   ],
   "source": [
    "arr"
   ]
  },
  {
   "cell_type": "code",
   "execution_count": 89,
   "id": "a853802a-a0a5-4c3d-89f3-a1e7c8a948cd",
   "metadata": {},
   "outputs": [
    {
     "data": {
      "text/plain": [
       "array([[5, 5],\n",
       "       [5, 5]], dtype=int32)"
      ]
     },
     "execution_count": 89,
     "metadata": {},
     "output_type": "execute_result"
    }
   ],
   "source": [
    "arr[2:,0:2]"
   ]
  },
  {
   "cell_type": "code",
   "execution_count": 90,
   "id": "e1590a1a-945e-4a43-84ad-469e9bcc0bc6",
   "metadata": {},
   "outputs": [
    {
     "data": {
      "text/plain": [
       "array([[1, 5, 2, 5],\n",
       "       [5, 6, 9, 3],\n",
       "       [5, 5, 2, 8],\n",
       "       [5, 5, 5, 8]], dtype=int32)"
      ]
     },
     "execution_count": 90,
     "metadata": {},
     "output_type": "execute_result"
    }
   ],
   "source": [
    "arr"
   ]
  },
  {
   "cell_type": "code",
   "execution_count": 91,
   "id": "d0b3fbd6-d01a-48ec-b4de-989ad2805885",
   "metadata": {},
   "outputs": [],
   "source": [
    "#agr sabhi values ki baat change krni ho\n",
    "arr[2:,0:2] = 5"
   ]
  },
  {
   "cell_type": "code",
   "execution_count": 92,
   "id": "05933baa-42e6-4efc-9ca3-f9321b536119",
   "metadata": {},
   "outputs": [
    {
     "data": {
      "text/plain": [
       "array([[1, 5, 2, 5],\n",
       "       [5, 6, 9, 3],\n",
       "       [5, 5, 2, 8],\n",
       "       [5, 5, 5, 8]], dtype=int32)"
      ]
     },
     "execution_count": 92,
     "metadata": {},
     "output_type": "execute_result"
    }
   ],
   "source": [
    "arr"
   ]
  },
  {
   "cell_type": "code",
   "execution_count": 93,
   "id": "ea120135-6096-4825-be5c-8d07b58bc7aa",
   "metadata": {},
   "outputs": [],
   "source": [
    "#agr hum usse kisi varriable me save kr lee\n",
    "a=arr[-2:,-2:]"
   ]
  },
  {
   "cell_type": "code",
   "execution_count": 94,
   "id": "50cd46fc-1190-4544-ac66-c48f5cb9679f",
   "metadata": {},
   "outputs": [
    {
     "data": {
      "text/plain": [
       "array([[2, 8],\n",
       "       [5, 8]], dtype=int32)"
      ]
     },
     "execution_count": 94,
     "metadata": {},
     "output_type": "execute_result"
    }
   ],
   "source": [
    "a"
   ]
  },
  {
   "cell_type": "code",
   "execution_count": 95,
   "id": "21b9c1a4-d5e1-4a39-bd49-337538780512",
   "metadata": {},
   "outputs": [
    {
     "data": {
      "text/plain": [
       "array([[1, 5, 2, 5],\n",
       "       [5, 6, 9, 3],\n",
       "       [5, 5, 2, 8],\n",
       "       [5, 5, 5, 8]], dtype=int32)"
      ]
     },
     "execution_count": 95,
     "metadata": {},
     "output_type": "execute_result"
    }
   ],
   "source": [
    "arr"
   ]
  },
  {
   "cell_type": "code",
   "execution_count": 96,
   "id": "eeecc876-8a3b-4eca-97ac-9f38ae0173b2",
   "metadata": {},
   "outputs": [],
   "source": [
    "a[0,-1] = 100"
   ]
  },
  {
   "cell_type": "code",
   "execution_count": 97,
   "id": "d5030e15-0882-4493-81f5-d8aa579c1410",
   "metadata": {},
   "outputs": [
    {
     "data": {
      "text/plain": [
       "array([[  2, 100],\n",
       "       [  5,   8]], dtype=int32)"
      ]
     },
     "execution_count": 97,
     "metadata": {},
     "output_type": "execute_result"
    }
   ],
   "source": [
    "#a mai bhi change ho geya \n",
    "a"
   ]
  },
  {
   "cell_type": "code",
   "execution_count": 99,
   "id": "d6063f2b-1209-4dc8-8893-b8abf80833e5",
   "metadata": {},
   "outputs": [
    {
     "data": {
      "text/plain": [
       "array([[  1,   5,   2,   5],\n",
       "       [  5,   6,   9,   3],\n",
       "       [  5,   5,   2, 100],\n",
       "       [  5,   5,   5,   8]], dtype=int32)"
      ]
     },
     "execution_count": 99,
     "metadata": {},
     "output_type": "execute_result"
    }
   ],
   "source": [
    "#or  original array me bhi change hogeya isiloye numpy baki orthers se fast hota hai\n",
    "arr"
   ]
  },
  {
   "cell_type": "code",
   "execution_count": 100,
   "id": "7d77659e-2dad-4582-b789-818bae9f5cf6",
   "metadata": {},
   "outputs": [],
   "source": [
    "a[0,-1] = 100"
   ]
  },
  {
   "cell_type": "code",
   "execution_count": 101,
   "id": "7b0baa98-f6e8-42e9-ab75-a40b4ae109a4",
   "metadata": {},
   "outputs": [
    {
     "data": {
      "text/plain": [
       "array([[  2, 100],\n",
       "       [  5,   8]], dtype=int32)"
      ]
     },
     "execution_count": 101,
     "metadata": {},
     "output_type": "execute_result"
    }
   ],
   "source": [
    "a"
   ]
  },
  {
   "cell_type": "code",
   "execution_count": 102,
   "id": "a9fa3214-dd22-42a8-a825-c29503207378",
   "metadata": {},
   "outputs": [
    {
     "data": {
      "text/plain": [
       "array([[  2, 100],\n",
       "       [  5,   8]], dtype=int32)"
      ]
     },
     "execution_count": 102,
     "metadata": {},
     "output_type": "execute_result"
    }
   ],
   "source": [
    "a"
   ]
  },
  {
   "cell_type": "code",
   "execution_count": 103,
   "id": "c57c6f10-36ee-42e8-a3d7-d4bdbfa0fdd3",
   "metadata": {},
   "outputs": [
    {
     "data": {
      "text/plain": [
       "array([[  1,   5,   2,   5],\n",
       "       [  5,   6,   9,   3],\n",
       "       [  5,   5,   2, 100],\n",
       "       [  5,   5,   5,   8]], dtype=int32)"
      ]
     },
     "execution_count": 103,
     "metadata": {},
     "output_type": "execute_result"
    }
   ],
   "source": [
    "arr"
   ]
  },
  {
   "cell_type": "code",
   "execution_count": 104,
   "id": "299245a5-f192-453c-8d01-f7e24bf8b53f",
   "metadata": {},
   "outputs": [],
   "source": [
    "a=arr[-2:,-2:]"
   ]
  },
  {
   "cell_type": "code",
   "execution_count": 105,
   "id": "5d2aff28-46e3-4357-aeb0-df6783725bfc",
   "metadata": {},
   "outputs": [
    {
     "data": {
      "text/plain": [
       "array([[  2, 100],\n",
       "       [  5,   8]], dtype=int32)"
      ]
     },
     "execution_count": 105,
     "metadata": {},
     "output_type": "execute_result"
    }
   ],
   "source": [
    "a"
   ]
  },
  {
   "cell_type": "code",
   "execution_count": 107,
   "id": "d26eea78-0c8d-4844-8153-fcc6be793995",
   "metadata": {},
   "outputs": [],
   "source": [
    "#agr simple aise krte hai too original me bhi change hota hai but agr hum.copy ka use \n",
    "#krte hai too hamare pass bss copy banegi original me change nhi hogga"
   ]
  },
  {
   "cell_type": "code",
   "execution_count": 111,
   "id": "9110999f-d162-4ce9-ac3f-3f0f328b4557",
   "metadata": {},
   "outputs": [],
   "source": [
    "a=arr[-2:,2:].copy()"
   ]
  },
  {
   "cell_type": "code",
   "execution_count": 115,
   "id": "f438a875-6ce2-40d9-b709-028fa9f837a9",
   "metadata": {},
   "outputs": [],
   "source": [
    "a[0,1]=56"
   ]
  },
  {
   "cell_type": "code",
   "execution_count": 118,
   "id": "0b258b7e-6d88-4abe-912b-2db7bbfe937a",
   "metadata": {},
   "outputs": [
    {
     "data": {
      "text/plain": [
       "array([[ 2, 56],\n",
       "       [ 5,  8]], dtype=int32)"
      ]
     },
     "execution_count": 118,
     "metadata": {},
     "output_type": "execute_result"
    }
   ],
   "source": [
    "#copy me change hogga\n",
    "a"
   ]
  },
  {
   "cell_type": "code",
   "execution_count": 119,
   "id": "2a688b7f-e060-40c7-adad-39536fd2a81e",
   "metadata": {},
   "outputs": [
    {
     "data": {
      "text/plain": [
       "array([[  1,   5,   2,   5],\n",
       "       [  5,   6,   9,   3],\n",
       "       [  5,   5,   2, 100],\n",
       "       [  5,   5,   5,   8]], dtype=int32)"
      ]
     },
     "execution_count": 119,
     "metadata": {},
     "output_type": "execute_result"
    }
   ],
   "source": [
    "#but original me change nhi hogga\n",
    "arr"
   ]
  },
  {
   "cell_type": "code",
   "execution_count": 120,
   "id": "5c076601-ac4d-47b5-bfbb-41fd9ed7f980",
   "metadata": {},
   "outputs": [],
   "source": [
    "arr = np.arange(9)\n",
    "arr = arr.reshape(3,3)"
   ]
  },
  {
   "cell_type": "code",
   "execution_count": 121,
   "id": "e5a5b9fd-a3e2-4354-9bac-4f832ff83a00",
   "metadata": {},
   "outputs": [
    {
     "data": {
      "text/plain": [
       "array([[0, 1, 2],\n",
       "       [3, 4, 5],\n",
       "       [6, 7, 8]])"
      ]
     },
     "execution_count": 121,
     "metadata": {},
     "output_type": "execute_result"
    }
   ],
   "source": [
    "arr"
   ]
  },
  {
   "cell_type": "code",
   "execution_count": 127,
   "id": "398d5c33-3adc-4f5b-907a-2e55e1d518e9",
   "metadata": {},
   "outputs": [],
   "source": [
    "#isme agr change krenge too original me bhi hogga\n",
    "a = arr"
   ]
  },
  {
   "cell_type": "code",
   "execution_count": 128,
   "id": "7d91f0c5-1f42-4b25-8b13-242aaa4f868a",
   "metadata": {},
   "outputs": [],
   "source": [
    "#or agr isme agr change krenge too srf copy b me change hoga original me change nhi hoga\n",
    "b = arr.copy()"
   ]
  },
  {
   "cell_type": "code",
   "execution_count": 129,
   "id": "d81fce7c-d255-44ae-b3dd-2c7f143362f9",
   "metadata": {},
   "outputs": [],
   "source": [
    "a[0][0] = 50"
   ]
  },
  {
   "cell_type": "code",
   "execution_count": 130,
   "id": "358cb993-b58f-45ff-a428-bab40d05a069",
   "metadata": {},
   "outputs": [
    {
     "data": {
      "text/plain": [
       "array([[50,  1,  2],\n",
       "       [ 3,  4,  5],\n",
       "       [ 6,  7,  8]])"
      ]
     },
     "execution_count": 130,
     "metadata": {},
     "output_type": "execute_result"
    }
   ],
   "source": [
    "arr"
   ]
  },
  {
   "cell_type": "code",
   "execution_count": 131,
   "id": "08dab407-9f99-4be1-9ee9-5b909b146f1e",
   "metadata": {},
   "outputs": [],
   "source": [
    "b[0,0] = 100"
   ]
  },
  {
   "cell_type": "code",
   "execution_count": 132,
   "id": "2aa78eac-02b4-46c1-b564-b1e3bbfe9fa2",
   "metadata": {},
   "outputs": [
    {
     "data": {
      "text/plain": [
       "array([[100,   1,   2],\n",
       "       [  3,   4,   5],\n",
       "       [  6,   7,   8]])"
      ]
     },
     "execution_count": 132,
     "metadata": {},
     "output_type": "execute_result"
    }
   ],
   "source": [
    "b"
   ]
  },
  {
   "cell_type": "code",
   "execution_count": 133,
   "id": "bd3ad512-6845-4adf-abad-694fdeccdad9",
   "metadata": {},
   "outputs": [
    {
     "data": {
      "text/plain": [
       "array([[50,  1,  2],\n",
       "       [ 3,  4,  5],\n",
       "       [ 6,  7,  8]])"
      ]
     },
     "execution_count": 133,
     "metadata": {},
     "output_type": "execute_result"
    }
   ],
   "source": [
    "arr"
   ]
  },
  {
   "cell_type": "code",
   "execution_count": null,
   "id": "ad484c99-880d-41ca-a058-87323ece29e8",
   "metadata": {},
   "outputs": [],
   "source": []
  },
  {
   "cell_type": "code",
   "execution_count": null,
   "id": "706d1d60-780a-4f15-9e7d-217f29ab49e4",
   "metadata": {},
   "outputs": [],
   "source": []
  }
 ],
 "metadata": {
  "kernelspec": {
   "display_name": "Python [conda env:base] *",
   "language": "python",
   "name": "conda-base-py"
  },
  "language_info": {
   "codemirror_mode": {
    "name": "ipython",
    "version": 3
   },
   "file_extension": ".py",
   "mimetype": "text/x-python",
   "name": "python",
   "nbconvert_exporter": "python",
   "pygments_lexer": "ipython3",
   "version": "3.13.5"
  }
 },
 "nbformat": 4,
 "nbformat_minor": 5
}
