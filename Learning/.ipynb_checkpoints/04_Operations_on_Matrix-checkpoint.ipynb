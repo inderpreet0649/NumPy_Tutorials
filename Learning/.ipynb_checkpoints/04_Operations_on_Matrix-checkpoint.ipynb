{
 "cells": [
  {
   "cell_type": "code",
   "execution_count": 5,
   "id": "abb9a20b-4a75-47b9-b319-f82928e93e64",
   "metadata": {},
   "outputs": [],
   "source": [
    "import numpy as np"
   ]
  },
  {
   "cell_type": "markdown",
   "id": "ac92d18b-9cbc-4017-8139-39ec0303ed93",
   "metadata": {},
   "source": [
    "## Broadcasting"
   ]
  },
  {
   "cell_type": "code",
   "execution_count": null,
   "id": "287ffb23-9e5a-4ea1-84fa-26fe579cac69",
   "metadata": {},
   "outputs": [],
   "source": [
    "arr =np.arange(0,9)\n",
    "arr = arr.reshape(3,3)"
   ]
  },
  {
   "cell_type": "code",
   "execution_count": null,
   "id": "1186970e-be4d-4e29-9861-4232ad223cf3",
   "metadata": {},
   "outputs": [],
   "source": [
    "arr"
   ]
  },
  {
   "cell_type": "code",
   "execution_count": null,
   "id": "716e7840-fd4f-479b-9837-0c1e6ae41436",
   "metadata": {},
   "outputs": [],
   "source": [
    "arr*3"
   ]
  },
  {
   "cell_type": "code",
   "execution_count": null,
   "id": "98bde89a-e988-48a3-9b50-6f4def040c84",
   "metadata": {},
   "outputs": [],
   "source": [
    "arr"
   ]
  },
  {
   "cell_type": "code",
   "execution_count": null,
   "id": "372ee2b1-9540-464d-8b3d-943e8702708e",
   "metadata": {},
   "outputs": [],
   "source": [
    "a = np.array([1,2])\n",
    "b = np.array([3,4])"
   ]
  },
  {
   "cell_type": "code",
   "execution_count": null,
   "id": "6d0f1612-2234-4ee7-afed-3cd0533eef12",
   "metadata": {},
   "outputs": [],
   "source": [
    "a"
   ]
  },
  {
   "cell_type": "code",
   "execution_count": null,
   "id": "3c81892b-ac73-4174-982a-7912a0a3b6b1",
   "metadata": {},
   "outputs": [],
   "source": [
    "b"
   ]
  },
  {
   "cell_type": "code",
   "execution_count": null,
   "id": "f04ef4ae-f21f-4612-9ee1-adfbcf45f31b",
   "metadata": {},
   "outputs": [],
   "source": [
    "a+b"
   ]
  },
  {
   "cell_type": "code",
   "execution_count": null,
   "id": "adff4a98-cd90-4f20-972d-c8cdac04bcb9",
   "metadata": {},
   "outputs": [],
   "source": [
    "a-b"
   ]
  },
  {
   "cell_type": "code",
   "execution_count": null,
   "id": "4dd85b05-d2eb-41b5-8e6e-2d14996bb2f1",
   "metadata": {},
   "outputs": [],
   "source": [
    "a*b"
   ]
  },
  {
   "cell_type": "code",
   "execution_count": null,
   "id": "d07c32b9-3d34-4315-bfb3-6f86984e60b7",
   "metadata": {},
   "outputs": [],
   "source": [
    "a/b"
   ]
  },
  {
   "cell_type": "code",
   "execution_count": null,
   "id": "125c07eb-46fd-46e5-ac09-3d0fb5ce0eff",
   "metadata": {},
   "outputs": [],
   "source": [
    "a//b"
   ]
  },
  {
   "cell_type": "markdown",
   "id": "727441dd-0a61-4f7b-992c-bdcf664ddf34",
   "metadata": {},
   "source": [
    "## Dot product on 2 vectors"
   ]
  },
  {
   "cell_type": "code",
   "execution_count": null,
   "id": "c66cbfe6-7533-4375-8ac3-8b0f3b21b550",
   "metadata": {},
   "outputs": [],
   "source": [
    "a = np.array([5,-3,2])\n",
    "b = np.array([4,5,3])"
   ]
  },
  {
   "cell_type": "code",
   "execution_count": null,
   "id": "5557131e-0cbf-4540-817d-8ef033a236eb",
   "metadata": {},
   "outputs": [],
   "source": [
    "a"
   ]
  },
  {
   "cell_type": "code",
   "execution_count": null,
   "id": "91f5913b-c409-4caf-b739-3e31217ccef6",
   "metadata": {},
   "outputs": [],
   "source": [
    "b"
   ]
  },
  {
   "cell_type": "code",
   "execution_count": null,
   "id": "ea8f03d1-a197-4a77-9c82-6f6c2b05aaa1",
   "metadata": {},
   "outputs": [],
   "source": [
    "#multiply first elemnt to first element + 2*2 + 3*3 = dot product \n",
    "a.dot(b)"
   ]
  },
  {
   "cell_type": "markdown",
   "id": "2e53ee50-67bd-48eb-8c67-9a4c08f8574f",
   "metadata": {},
   "source": [
    "## Cross product of 2 vectors"
   ]
  },
  {
   "cell_type": "code",
   "execution_count": null,
   "id": "e91ff7d5-7a6b-4d2e-9fe3-6e4dd75e85bf",
   "metadata": {},
   "outputs": [],
   "source": [
    "a = np.array([3,4,5])\n",
    "b = np.array([7,8,9])"
   ]
  },
  {
   "cell_type": "code",
   "execution_count": null,
   "id": "800fda92-c31f-4669-8e27-c5817178d6ac",
   "metadata": {},
   "outputs": [],
   "source": [
    "a"
   ]
  },
  {
   "cell_type": "code",
   "execution_count": null,
   "id": "6cb7f324-987a-454d-b4e9-841e83f1a77a",
   "metadata": {},
   "outputs": [],
   "source": [
    "b"
   ]
  },
  {
   "cell_type": "code",
   "execution_count": null,
   "id": "787c3af1-f30d-4654-8ccd-fa1ad439d848",
   "metadata": {},
   "outputs": [],
   "source": [
    "c = np.cross(a,b)"
   ]
  },
  {
   "cell_type": "code",
   "execution_count": null,
   "id": "3357efcc-2295-449e-a4bd-bd21cc8debb8",
   "metadata": {},
   "outputs": [],
   "source": [
    "c"
   ]
  },
  {
   "cell_type": "code",
   "execution_count": null,
   "id": "15037094-2721-4eda-8a32-ae84baafdf66",
   "metadata": {},
   "outputs": [],
   "source": [
    "c.dot(b)"
   ]
  },
  {
   "cell_type": "markdown",
   "id": "17e65381-74fb-427f-b574-de6fa7b4973c",
   "metadata": {},
   "source": [
    "## Determinant"
   ]
  },
  {
   "cell_type": "code",
   "execution_count": null,
   "id": "7ba43f16-af5a-4dfa-b996-cb5f2e2c0ad5",
   "metadata": {},
   "outputs": [],
   "source": [
    "arr = np.array([\n",
    "    [3,5,2],\n",
    "    [1,4,7],\n",
    "    [6,8,9]\n",
    "])"
   ]
  },
  {
   "cell_type": "markdown",
   "id": "900b1e10-2b75-4e8b-8f24-99c3dc800445",
   "metadata": {},
   "source": [
    "#linear algebra.determinant\n",
    "np.linalg.det(arr)"
   ]
  },
  {
   "cell_type": "code",
   "execution_count": null,
   "id": "6b7e0fdb-27ce-4a72-aba5-e62d13ac6edb",
   "metadata": {},
   "outputs": [],
   "source": [
    "round(np.linalg.det(arr))"
   ]
  },
  {
   "cell_type": "code",
   "execution_count": 2,
   "id": "7e9c8988-bf8e-4061-9917-d7841e56aafa",
   "metadata": {},
   "outputs": [],
   "source": [
    "arr = np.array([\n",
    "    [3,5,2],\n",
    "    [1,10,4],\n",
    "    [6,8,9]\n",
    "])"
   ]
  },
  {
   "cell_type": "markdown",
   "id": "4bfb7f29-b749-49e0-9005-a5ebece9e01b",
   "metadata": {},
   "source": [
    "## Inverse of a matix"
   ]
  },
  {
   "cell_type": "code",
   "execution_count": 3,
   "id": "b922827d-27a6-4770-8590-3e5e4d175a2f",
   "metadata": {},
   "outputs": [],
   "source": [
    "arr = np.array([\n",
    "    [1,2,3],\n",
    "    [4,5,6],\n",
    "    [7,8,9]\n",
    "])"
   ]
  },
  {
   "cell_type": "code",
   "execution_count": 4,
   "id": "e77e2ba8-ddf0-49e1-8569-6bd25ad1ec52",
   "metadata": {},
   "outputs": [
    {
     "data": {
      "text/plain": [
       "array([[1, 2, 3],\n",
       "       [4, 5, 6],\n",
       "       [7, 8, 9]])"
      ]
     },
     "execution_count": 4,
     "metadata": {},
     "output_type": "execute_result"
    }
   ],
   "source": [
    "arr"
   ]
  },
  {
   "cell_type": "code",
   "execution_count": 6,
   "id": "8c337687-51ff-4504-9e7a-ba23ab39a036",
   "metadata": {},
   "outputs": [],
   "source": [
    "inv = np.linalg.inv(arr)"
   ]
  },
  {
   "cell_type": "code",
   "execution_count": 7,
   "id": "4a1f85b4-7233-471f-98c2-1808a1aca2c2",
   "metadata": {},
   "outputs": [
    {
     "data": {
      "text/plain": [
       "array([[ 3.15251974e+15, -6.30503948e+15,  3.15251974e+15],\n",
       "       [-6.30503948e+15,  1.26100790e+16, -6.30503948e+15],\n",
       "       [ 3.15251974e+15, -6.30503948e+15,  3.15251974e+15]])"
      ]
     },
     "execution_count": 7,
     "metadata": {},
     "output_type": "execute_result"
    }
   ],
   "source": [
    "inv"
   ]
  },
  {
   "cell_type": "code",
   "execution_count": 8,
   "id": "4d50deb2-6049-495c-8976-8de8b42ec61c",
   "metadata": {},
   "outputs": [
    {
     "data": {
      "text/plain": [
       "array([[ 0. ,  1. , -0.5],\n",
       "       [ 0. ,  2. , -1. ],\n",
       "       [ 0. ,  3. ,  2.5]])"
      ]
     },
     "execution_count": 8,
     "metadata": {},
     "output_type": "execute_result"
    }
   ],
   "source": [
    "arr.dot(inv)"
   ]
  },
  {
   "cell_type": "code",
   "execution_count": 9,
   "id": "2b7b8954-6145-4b46-9f77-7a911c5adf54",
   "metadata": {},
   "outputs": [],
   "source": [
    "arr = np.array([\n",
    "    [1,2,3],\n",
    "    [3,-2,1],\n",
    "    [4,1,1]\n",
    "])"
   ]
  },
  {
   "cell_type": "code",
   "execution_count": 11,
   "id": "b75be1bf-c65f-4820-979b-19966f5ca934",
   "metadata": {},
   "outputs": [],
   "source": [
    "inv = np.linalg.inv(arr)"
   ]
  },
  {
   "cell_type": "code",
   "execution_count": 12,
   "id": "548e901a-54b4-46d7-b7ae-f5275e60b344",
   "metadata": {},
   "outputs": [
    {
     "data": {
      "text/plain": [
       "array([[-0.09375,  0.03125,  0.25   ],\n",
       "       [ 0.03125, -0.34375,  0.25   ],\n",
       "       [ 0.34375,  0.21875, -0.25   ]])"
      ]
     },
     "execution_count": 12,
     "metadata": {},
     "output_type": "execute_result"
    }
   ],
   "source": [
    "inv"
   ]
  },
  {
   "cell_type": "code",
   "execution_count": 28,
   "id": "93f7426e-0d50-4740-aafe-9235d4f477b7",
   "metadata": {},
   "outputs": [],
   "source": [
    "#indentity matrix\n",
    "#dot means 2 matix ko multiply ke liye\n",
    "a = [arr.dot(inv)]"
   ]
  },
  {
   "cell_type": "code",
   "execution_count": 20,
   "id": "7b2e6591-0102-4735-868c-8fc6e659fb0f",
   "metadata": {},
   "outputs": [
    {
     "data": {
      "text/plain": [
       "[array([[1., 0., 0.],\n",
       "        [0., 1., 0.],\n",
       "        [0., 0., 1.]])]"
      ]
     },
     "execution_count": 20,
     "metadata": {},
     "output_type": "execute_result"
    }
   ],
   "source": [
    "a"
   ]
  },
  {
   "cell_type": "code",
   "execution_count": 22,
   "id": "70149d70-2a4e-4d5a-8ac3-544846f43bbe",
   "metadata": {},
   "outputs": [
    {
     "data": {
      "text/plain": [
       "array([1.])"
      ]
     },
     "execution_count": 22,
     "metadata": {},
     "output_type": "execute_result"
    }
   ],
   "source": [
    "#determinant of identity matrix\n",
    "np.linalg.det(a)"
   ]
  },
  {
   "cell_type": "code",
   "execution_count": 23,
   "id": "14b91424-e031-4b63-80b9-a5958b7ead5f",
   "metadata": {},
   "outputs": [
    {
     "data": {
      "text/plain": [
       "np.float64(32.000000000000014)"
      ]
     },
     "execution_count": 23,
     "metadata": {},
     "output_type": "execute_result"
    }
   ],
   "source": [
    "np.linalg.det(arr)"
   ]
  },
  {
   "cell_type": "code",
   "execution_count": 24,
   "id": "befa3256-2d4d-458f-b41b-f27ed7e03116",
   "metadata": {},
   "outputs": [],
   "source": [
    "i =np.eye(3)"
   ]
  },
  {
   "cell_type": "code",
   "execution_count": 25,
   "id": "19cceede-88d5-4f29-bb2f-ffaff03cfa18",
   "metadata": {},
   "outputs": [
    {
     "data": {
      "text/plain": [
       "array([[1., 0., 0.],\n",
       "       [0., 1., 0.],\n",
       "       [0., 0., 1.]])"
      ]
     },
     "execution_count": 25,
     "metadata": {},
     "output_type": "execute_result"
    }
   ],
   "source": [
    "i"
   ]
  },
  {
   "cell_type": "code",
   "execution_count": 26,
   "id": "3de66d26-a392-40e7-bf2a-8af853693414",
   "metadata": {},
   "outputs": [
    {
     "data": {
      "text/plain": [
       "np.float64(1.0)"
      ]
     },
     "execution_count": 26,
     "metadata": {},
     "output_type": "execute_result"
    }
   ],
   "source": [
    "np.linalg.det(i)"
   ]
  },
  {
   "cell_type": "code",
   "execution_count": 27,
   "id": "5f7d14ef-d42c-46a5-b3cb-81071c74ac67",
   "metadata": {},
   "outputs": [
    {
     "data": {
      "text/plain": [
       "array([[ 1,  2,  3],\n",
       "       [ 3, -2,  1],\n",
       "       [ 4,  1,  1]])"
      ]
     },
     "execution_count": 27,
     "metadata": {},
     "output_type": "execute_result"
    }
   ],
   "source": [
    "arr"
   ]
  },
  {
   "cell_type": "markdown",
   "id": "417a5f50-fb98-457e-a0bd-62b86565dd7d",
   "metadata": {},
   "source": [
    "## Multiplication of 2 matrix "
   ]
  },
  {
   "cell_type": "raw",
   "id": "c102a1aa-5a31-49d3-b1c6-fc292e7c603f",
   "metadata": {},
   "source": []
  },
  {
   "cell_type": "code",
   "execution_count": 32,
   "id": "8d437b1c-6acf-4eec-a2ba-c1f02cef50fc",
   "metadata": {},
   "outputs": [],
   "source": [
    "X = np.random.randint(1,10,(3,3))"
   ]
  },
  {
   "cell_type": "code",
   "execution_count": 33,
   "id": "c58d500c-72ab-463e-87b0-0cfd48fa30ee",
   "metadata": {},
   "outputs": [
    {
     "data": {
      "text/plain": [
       "array([[6, 4, 8],\n",
       "       [6, 3, 7],\n",
       "       [7, 2, 4]], dtype=int32)"
      ]
     },
     "execution_count": 33,
     "metadata": {},
     "output_type": "execute_result"
    }
   ],
   "source": [
    "X"
   ]
  },
  {
   "cell_type": "code",
   "execution_count": 34,
   "id": "2ab390a9-6b5c-4308-bbde-fb6557ed786f",
   "metadata": {},
   "outputs": [],
   "source": [
    "Y =np.random.randint(1,10,(3,3))"
   ]
  },
  {
   "cell_type": "code",
   "execution_count": 35,
   "id": "fc1928cc-0854-4f7b-aaec-88d8a0231ab2",
   "metadata": {},
   "outputs": [
    {
     "data": {
      "text/plain": [
       "array([[7, 7, 7],\n",
       "       [1, 4, 1],\n",
       "       [6, 2, 5]], dtype=int32)"
      ]
     },
     "execution_count": 35,
     "metadata": {},
     "output_type": "execute_result"
    }
   ],
   "source": [
    "Y"
   ]
  },
  {
   "cell_type": "code",
   "execution_count": 36,
   "id": "23ac3316-345b-4dd7-b679-838a71f775d1",
   "metadata": {},
   "outputs": [
    {
     "data": {
      "text/plain": [
       "array([[94, 74, 86],\n",
       "       [87, 68, 80],\n",
       "       [75, 65, 71]], dtype=int32)"
      ]
     },
     "execution_count": 36,
     "metadata": {},
     "output_type": "execute_result"
    }
   ],
   "source": [
    "X.dot(Y)"
   ]
  },
  {
   "cell_type": "markdown",
   "id": "6508eb3a-62f1-4b0f-9ca9-114fee7eb952",
   "metadata": {},
   "source": [
    "## Solving linear algebra"
   ]
  },
  {
   "cell_type": "code",
   "execution_count": 37,
   "id": "397a1428-8d76-44bf-ba91-232c7ef50d86",
   "metadata": {},
   "outputs": [],
   "source": [
    "arr = np.array([\n",
    "    [1,3,-2],\n",
    "    [2,-1,6],\n",
    "    [1,1,-2]\n",
    "])"
   ]
  },
  {
   "cell_type": "code",
   "execution_count": 38,
   "id": "bdf6ca3c-edc1-4ad8-9d84-8935cc2a487b",
   "metadata": {},
   "outputs": [
    {
     "data": {
      "text/plain": [
       "array([[ 1,  3, -2],\n",
       "       [ 2, -1,  6],\n",
       "       [ 1,  1, -2]])"
      ]
     },
     "execution_count": 38,
     "metadata": {},
     "output_type": "execute_result"
    }
   ],
   "source": [
    "arr"
   ]
  },
  {
   "cell_type": "code",
   "execution_count": 39,
   "id": "55b6a146-3a16-40f6-92f1-f86b72e2b5f7",
   "metadata": {},
   "outputs": [],
   "source": [
    "C = np.array([10,3,5])"
   ]
  },
  {
   "cell_type": "code",
   "execution_count": 40,
   "id": "04f9e690-dd91-4e45-ba5e-12f1a9477816",
   "metadata": {},
   "outputs": [
    {
     "data": {
      "text/plain": [
       "array([10,  3,  5])"
      ]
     },
     "execution_count": 40,
     "metadata": {},
     "output_type": "execute_result"
    }
   ],
   "source": [
    "C"
   ]
  },
  {
   "cell_type": "code",
   "execution_count": 41,
   "id": "25616a8a-2e1c-43c7-bb98-9f5841caf474",
   "metadata": {},
   "outputs": [],
   "source": [
    "inv = np.linalg.inv(arr)"
   ]
  },
  {
   "cell_type": "code",
   "execution_count": 42,
   "id": "b428e04b-4baf-405d-b5fe-c1f52553cad4",
   "metadata": {},
   "outputs": [
    {
     "data": {
      "text/plain": [
       "array([[-2.00000000e-01,  2.00000000e-01,  8.00000000e-01],\n",
       "       [ 5.00000000e-01, -1.18952467e-17, -5.00000000e-01],\n",
       "       [ 1.50000000e-01,  1.00000000e-01, -3.50000000e-01]])"
      ]
     },
     "execution_count": 42,
     "metadata": {},
     "output_type": "execute_result"
    }
   ],
   "source": [
    "inv"
   ]
  },
  {
   "cell_type": "code",
   "execution_count": 44,
   "id": "3745119f-b990-40e7-a4a3-08b42687a8cf",
   "metadata": {},
   "outputs": [
    {
     "data": {
      "text/plain": [
       "array([2.6 , 2.5 , 0.05])"
      ]
     },
     "execution_count": 44,
     "metadata": {},
     "output_type": "execute_result"
    }
   ],
   "source": [
    "# x,y,z values...A inverse multiply B\n",
    "inv.dot(C)"
   ]
  },
  {
   "cell_type": "markdown",
   "id": "46060ead-41c8-43f1-8943-0cf6c9e0b248",
   "metadata": {},
   "source": [
    "## Eigen values and Eigen vectors"
   ]
  },
  {
   "cell_type": "code",
   "execution_count": 1,
   "id": "8fae7d84-ba6e-444e-946a-c19958567e35",
   "metadata": {},
   "outputs": [],
   "source": [
    "## matrix A x eigen values = Lambda x eigen vectors"
   ]
  },
  {
   "cell_type": "code",
   "execution_count": 2,
   "id": "0bb13ccd-8d7b-4806-ad1b-ca48bed6368e",
   "metadata": {},
   "outputs": [],
   "source": [
    "## eigen value and vectors depends on size(angle) and direction "
   ]
  },
  {
   "cell_type": "code",
   "execution_count": 6,
   "id": "29f6c0ef-ca49-4c4c-b4d1-f3186c63bdd5",
   "metadata": {},
   "outputs": [],
   "source": [
    "arr= np.array([\n",
    "    [1,3,-2],\n",
    "    [2,-1,6],\n",
    "    [1,1,-2]\n",
    "])"
   ]
  },
  {
   "cell_type": "code",
   "execution_count": 7,
   "id": "6bbb59b2-9a9a-473d-8569-8f0dbaa4a709",
   "metadata": {},
   "outputs": [
    {
     "data": {
      "text/plain": [
       "array([[ 1,  3, -2],\n",
       "       [ 2, -1,  6],\n",
       "       [ 1,  1, -2]])"
      ]
     },
     "execution_count": 7,
     "metadata": {},
     "output_type": "execute_result"
    }
   ],
   "source": [
    "arr"
   ]
  },
  {
   "cell_type": "code",
   "execution_count": 8,
   "id": "bbd069e7-14c7-4bbc-98ce-50013a8b859e",
   "metadata": {},
   "outputs": [
    {
     "data": {
      "text/plain": [
       "array([ 3.25878567, -1.74822811, -3.51055757])"
      ]
     },
     "execution_count": 8,
     "metadata": {},
     "output_type": "execute_result"
    }
   ],
   "source": [
    " np.linalg.eigvals(arr)"
   ]
  },
  {
   "cell_type": "code",
   "execution_count": 9,
   "id": "d343924b-c6b2-453e-8744-fc4c591ffcaa",
   "metadata": {},
   "outputs": [
    {
     "data": {
      "text/plain": [
       "EigResult(eigenvalues=array([ 3.25878567, -1.74822811, -3.51055757]), eigenvectors=array([[-0.68032035, -0.68273056,  0.58984922],\n",
       "       [-0.685363  ,  0.71750056, -0.79590801],\n",
       "       [-0.25969557,  0.13810117,  0.13641241]]))"
      ]
     },
     "execution_count": 9,
     "metadata": {},
     "output_type": "execute_result"
    }
   ],
   "source": [
    "np.linalg.eig(arr)"
   ]
  },
  {
   "cell_type": "code",
   "execution_count": 10,
   "id": "2065ea49-c216-4463-8301-a99b1f7c0f74",
   "metadata": {},
   "outputs": [],
   "source": [
    "a , b = np.linalg.eig(arr)"
   ]
  },
  {
   "cell_type": "code",
   "execution_count": 11,
   "id": "16f0b260-3577-41e1-a9db-be1f9c567060",
   "metadata": {},
   "outputs": [
    {
     "data": {
      "text/plain": [
       "array([ 3.25878567, -1.74822811, -3.51055757])"
      ]
     },
     "execution_count": 11,
     "metadata": {},
     "output_type": "execute_result"
    }
   ],
   "source": [
    "#eign values\n",
    "a"
   ]
  },
  {
   "cell_type": "code",
   "execution_count": 12,
   "id": "05005a3b-4af5-45b4-848d-0da12cc303f1",
   "metadata": {},
   "outputs": [
    {
     "data": {
      "text/plain": [
       "array([[-0.68032035, -0.68273056,  0.58984922],\n",
       "       [-0.685363  ,  0.71750056, -0.79590801],\n",
       "       [-0.25969557,  0.13810117,  0.13641241]])"
      ]
     },
     "execution_count": 12,
     "metadata": {},
     "output_type": "execute_result"
    }
   ],
   "source": [
    "#eigen vectors\n",
    "b"
   ]
  },
  {
   "cell_type": "markdown",
   "id": "bf3e2b73-18bf-43f9-a191-e9f87e07e601",
   "metadata": {},
   "source": [
    "## Basic operations"
   ]
  },
  {
   "cell_type": "code",
   "execution_count": 13,
   "id": "a022dfc6-270b-4838-a5d5-5cffed4906da",
   "metadata": {},
   "outputs": [
    {
     "data": {
      "text/plain": [
       "array([[ 1,  3, -2],\n",
       "       [ 2, -1,  6],\n",
       "       [ 1,  1, -2]])"
      ]
     },
     "execution_count": 13,
     "metadata": {},
     "output_type": "execute_result"
    }
   ],
   "source": [
    "arr"
   ]
  },
  {
   "cell_type": "code",
   "execution_count": 14,
   "id": "1b3f9cc2-5aef-44ba-a3d3-64f96ac42fbb",
   "metadata": {},
   "outputs": [
    {
     "data": {
      "text/plain": [
       "np.int64(9)"
      ]
     },
     "execution_count": 14,
     "metadata": {},
     "output_type": "execute_result"
    }
   ],
   "source": [
    "np.sum(arr)"
   ]
  },
  {
   "cell_type": "code",
   "execution_count": 15,
   "id": "5c3252b0-ed14-4896-b4a8-37af64936e27",
   "metadata": {},
   "outputs": [
    {
     "data": {
      "text/plain": [
       "np.float64(1.0)"
      ]
     },
     "execution_count": 15,
     "metadata": {},
     "output_type": "execute_result"
    }
   ],
   "source": [
    "np.mean(arr)"
   ]
  },
  {
   "cell_type": "code",
   "execution_count": 16,
   "id": "1f77519c-7aae-4415-8be3-1f8e6b779fee",
   "metadata": {},
   "outputs": [
    {
     "data": {
      "text/plain": [
       "np.float64(1.0)"
      ]
     },
     "execution_count": 16,
     "metadata": {},
     "output_type": "execute_result"
    }
   ],
   "source": [
    "np.median(arr)"
   ]
  },
  {
   "cell_type": "code",
   "execution_count": 17,
   "id": "ed731987-9e35-43d1-b614-e79630011244",
   "metadata": {},
   "outputs": [
    {
     "data": {
      "text/plain": [
       "np.int64(-2)"
      ]
     },
     "execution_count": 17,
     "metadata": {},
     "output_type": "execute_result"
    }
   ],
   "source": [
    "np.min(arr)"
   ]
  },
  {
   "cell_type": "code",
   "execution_count": 18,
   "id": "185d457d-118b-4e36-b337-3d8841b3363f",
   "metadata": {},
   "outputs": [
    {
     "data": {
      "text/plain": [
       "np.int64(6)"
      ]
     },
     "execution_count": 18,
     "metadata": {},
     "output_type": "execute_result"
    }
   ],
   "source": [
    "np.max(arr)"
   ]
  },
  {
   "cell_type": "code",
   "execution_count": 19,
   "id": "47340a38-dfd0-4d92-bfd5-b1cd0b4a3599",
   "metadata": {},
   "outputs": [
    {
     "data": {
      "text/plain": [
       "np.int64(2)"
      ]
     },
     "execution_count": 19,
     "metadata": {},
     "output_type": "execute_result"
    }
   ],
   "source": [
    "# arg sgow the position of the element\n",
    "np.argmin(arr)"
   ]
  },
  {
   "cell_type": "code",
   "execution_count": 20,
   "id": "9dfcc50e-3950-4eed-a301-e237f8cc8f8d",
   "metadata": {},
   "outputs": [
    {
     "data": {
      "text/plain": [
       "np.int64(5)"
      ]
     },
     "execution_count": 20,
     "metadata": {},
     "output_type": "execute_result"
    }
   ],
   "source": [
    "np.argmax(arr)"
   ]
  },
  {
   "cell_type": "code",
   "execution_count": null,
   "id": "82fce60b-3465-4cd2-ab91-e87d40560330",
   "metadata": {},
   "outputs": [],
   "source": []
  }
 ],
 "metadata": {
  "kernelspec": {
   "display_name": "Python [conda env:base] *",
   "language": "python",
   "name": "conda-base-py"
  },
  "language_info": {
   "codemirror_mode": {
    "name": "ipython",
    "version": 3
   },
   "file_extension": ".py",
   "mimetype": "text/x-python",
   "name": "python",
   "nbconvert_exporter": "python",
   "pygments_lexer": "ipython3",
   "version": "3.13.5"
  }
 },
 "nbformat": 4,
 "nbformat_minor": 5
}
