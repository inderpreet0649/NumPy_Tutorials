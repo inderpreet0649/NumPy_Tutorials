{
 "cells": [
  {
   "cell_type": "markdown",
   "id": "3b5410fd-6b2e-40a4-a539-161a9b142006",
   "metadata": {},
   "source": [
    "# Install NumPy\n",
    "\n",
    "numpy is made by c++ and python"
   ]
  },
  {
   "cell_type": "code",
   "execution_count": 8,
   "id": "f06b1599-217b-440b-9cc0-306514f8e014",
   "metadata": {},
   "outputs": [
    {
     "name": "stdout",
     "output_type": "stream",
     "text": [
      "Requirement already satisfied: NumPy in c:\\users\\inder\\anaconda3\\lib\\site-packages (2.1.3)Note: you may need to restart the kernel to use updated packages.\n",
      "\n"
     ]
    }
   ],
   "source": [
    "pip install NumPy"
   ]
  },
  {
   "cell_type": "markdown",
   "id": "cfe1f7c1-668a-49ff-aeb7-7efaa8bc8086",
   "metadata": {},
   "source": [
    "# import numpy"
   ]
  },
  {
   "cell_type": "code",
   "execution_count": 1,
   "id": "63027255-04b9-4c54-8e00-767e2d5690a1",
   "metadata": {},
   "outputs": [],
   "source": [
    " ##np is alies and you can also use others variable rather than np"
   ]
  },
  {
   "cell_type": "code",
   "execution_count": 2,
   "id": "f9abd1ea-1591-41a1-91ce-011990c204c3",
   "metadata": {},
   "outputs": [],
   "source": [
    "import numpy as np"
   ]
  },
  {
   "cell_type": "code",
   "execution_count": 9,
   "id": "9f52668e-8d55-4744-a3e6-338024967862",
   "metadata": {},
   "outputs": [],
   "source": [
    "numList = [5,1,3]"
   ]
  },
  {
   "cell_type": "code",
   "execution_count": 10,
   "id": "2abbca33-105c-4cbc-b720-35dc797dd7b4",
   "metadata": {},
   "outputs": [],
   "source": [
    "floatList = [5.3,1.1,3.4]"
   ]
  },
  {
   "cell_type": "code",
   "execution_count": 11,
   "id": "9ba845b8-6068-428f-98e1-0c5bebee106c",
   "metadata": {},
   "outputs": [],
   "source": [
    "textList=['inder','preet','preety']"
   ]
  },
  {
   "cell_type": "code",
   "execution_count": 12,
   "id": "a49c1a40-3c5d-48b4-b185-5deca31d93f5",
   "metadata": {},
   "outputs": [],
   "source": [
    "boolList = [True , False ,True]"
   ]
  },
  {
   "cell_type": "code",
   "execution_count": 13,
   "id": "23497687-20ea-4a5e-9f0f-17c6c6245ccd",
   "metadata": {},
   "outputs": [],
   "source": [
    "numArr = np.array(numList)"
   ]
  },
  {
   "cell_type": "code",
   "execution_count": 14,
   "id": "4ba5669d-2159-430b-ba49-ba3e296684bc",
   "metadata": {},
   "outputs": [
    {
     "name": "stdout",
     "output_type": "stream",
     "text": [
      "[5 1 3]\n"
     ]
    }
   ],
   "source": [
    "#withput comma as we write print\n",
    "print(numArr)"
   ]
  },
  {
   "cell_type": "code",
   "execution_count": 16,
   "id": "596cfc84-d665-4100-93bf-3b9ec8fef743",
   "metadata": {},
   "outputs": [
    {
     "data": {
      "text/plain": [
       "array([5, 1, 3])"
      ]
     },
     "execution_count": 16,
     "metadata": {},
     "output_type": "execute_result"
    }
   ],
   "source": [
    "#with array also array is written in front of list\n",
    "numArr"
   ]
  },
  {
   "cell_type": "code",
   "execution_count": 17,
   "id": "9c9ae362-5265-4b7f-ad16-8297aa6ac825",
   "metadata": {},
   "outputs": [],
   "source": [
    "floatArr = np.array(floatList)"
   ]
  },
  {
   "cell_type": "code",
   "execution_count": 18,
   "id": "710fb62e-6406-42fd-ad68-9708a0c6ad6e",
   "metadata": {},
   "outputs": [
    {
     "name": "stdout",
     "output_type": "stream",
     "text": [
      "[5.3 1.1 3.4]\n"
     ]
    }
   ],
   "source": [
    "print(floatArr)"
   ]
  },
  {
   "cell_type": "code",
   "execution_count": 19,
   "id": "0fc27436-d967-43e8-ab32-1a4b69104ce6",
   "metadata": {},
   "outputs": [
    {
     "data": {
      "text/plain": [
       "array([5.3, 1.1, 3.4])"
      ]
     },
     "execution_count": 19,
     "metadata": {},
     "output_type": "execute_result"
    }
   ],
   "source": [
    "floatArr"
   ]
  },
  {
   "cell_type": "code",
   "execution_count": 20,
   "id": "4bc44d55-72f7-408e-ae1d-4f74093bc23b",
   "metadata": {},
   "outputs": [
    {
     "data": {
      "text/plain": [
       "dtype('float64')"
      ]
     },
     "execution_count": 20,
     "metadata": {},
     "output_type": "execute_result"
    }
   ],
   "source": [
    "#dtype se hum data type pata krte hai....64 are bytes and you have to try that bites are same of all items \n",
    "floatArr.dtype"
   ]
  },
  {
   "cell_type": "code",
   "execution_count": 21,
   "id": "0f5cfb62-f536-475b-bb28-dc250fdba0af",
   "metadata": {},
   "outputs": [],
   "source": [
    "textArr = np.array(textList)"
   ]
  },
  {
   "cell_type": "code",
   "execution_count": 22,
   "id": "4e9748e2-51a9-4afa-b0b6-e29f183745bb",
   "metadata": {},
   "outputs": [
    {
     "data": {
      "text/plain": [
       "array(['inder', 'preet', 'preety'], dtype='<U6')"
      ]
     },
     "execution_count": 22,
     "metadata": {},
     "output_type": "execute_result"
    }
   ],
   "source": [
    "textArr"
   ]
  },
  {
   "cell_type": "code",
   "execution_count": 23,
   "id": "4f7c0391-99d9-4d4a-9a64-e0557f9ae870",
   "metadata": {},
   "outputs": [],
   "source": [
    "boolArr =np.array(boolList)"
   ]
  },
  {
   "cell_type": "code",
   "execution_count": 24,
   "id": "88d31770-ec55-46a4-8a76-372ed6d351e5",
   "metadata": {},
   "outputs": [
    {
     "name": "stdout",
     "output_type": "stream",
     "text": [
      "[True, False, True]\n"
     ]
    }
   ],
   "source": [
    "print(boolList)"
   ]
  },
  {
   "cell_type": "code",
   "execution_count": 25,
   "id": "2d242df2-1260-436b-8036-fff8cd5678f3",
   "metadata": {},
   "outputs": [
    {
     "name": "stdout",
     "output_type": "stream",
     "text": [
      "[ True False  True]\n"
     ]
    }
   ],
   "source": [
    "print(boolArr)"
   ]
  },
  {
   "cell_type": "code",
   "execution_count": 26,
   "id": "a17704c7-f125-451a-ada7-c97c4a26da20",
   "metadata": {},
   "outputs": [
    {
     "data": {
      "text/plain": [
       "array(['5', '6.3', 'True', 'inder'], dtype='<U32')"
      ]
     },
     "execution_count": 26,
     "metadata": {},
     "output_type": "execute_result"
    }
   ],
   "source": [
    "np.array([5,6.3,True ,\"inder\"])"
   ]
  },
  {
   "cell_type": "code",
   "execution_count": 27,
   "id": "ba3da148-1189-46e0-98ef-377ecc41d06a",
   "metadata": {},
   "outputs": [],
   "source": [
    "arr = np.array([8,6,2,4,56,3,1,47,5,60,2])"
   ]
  },
  {
   "cell_type": "code",
   "execution_count": 28,
   "id": "d3b4b31a-6e2e-4d95-8669-24c04204e8ed",
   "metadata": {},
   "outputs": [
    {
     "data": {
      "text/plain": [
       "array([ 8,  6,  2,  4, 56,  3,  1, 47,  5, 60,  2])"
      ]
     },
     "execution_count": 28,
     "metadata": {},
     "output_type": "execute_result"
    }
   ],
   "source": [
    "arr"
   ]
  },
  {
   "cell_type": "code",
   "execution_count": 29,
   "id": "9d6f5ed9-cedc-4a51-acee-8a4413811c13",
   "metadata": {},
   "outputs": [
    {
     "name": "stdout",
     "output_type": "stream",
     "text": [
      "[ 8  6  2  4 56  3  1 47  5 60  2]\n"
     ]
    }
   ],
   "source": [
    "print(arr)"
   ]
  },
  {
   "cell_type": "code",
   "execution_count": 30,
   "id": "d78538c2-635f-498f-8bd7-284635348ab3",
   "metadata": {},
   "outputs": [
    {
     "data": {
      "text/plain": [
       "(11,)"
      ]
     },
     "execution_count": 30,
     "metadata": {},
     "output_type": "execute_result"
    }
   ],
   "source": [
    "arr.shape"
   ]
  },
  {
   "cell_type": "code",
   "execution_count": 31,
   "id": "c50a3274-ff04-4ba6-a426-b28301b4b6fc",
   "metadata": {},
   "outputs": [
    {
     "data": {
      "text/plain": [
       "1"
      ]
     },
     "execution_count": 31,
     "metadata": {},
     "output_type": "execute_result"
    }
   ],
   "source": [
    "#number of dimension...as kitne brackets etc..\n",
    "\n",
    "arr.ndim"
   ]
  },
  {
   "cell_type": "code",
   "execution_count": 32,
   "id": "15a4f2bb-5e19-44dc-9db6-fea3001c0572",
   "metadata": {},
   "outputs": [
    {
     "data": {
      "text/plain": [
       "11"
      ]
     },
     "execution_count": 32,
     "metadata": {},
     "output_type": "execute_result"
    }
   ],
   "source": [
    "#total elements\n",
    "arr.size"
   ]
  },
  {
   "cell_type": "markdown",
   "id": "7fd7aa68-4ac8-4e97-8551-5b74ceeb5d15",
   "metadata": {},
   "source": [
    "### Scaler values"
   ]
  },
  {
   "cell_type": "code",
   "execution_count": 33,
   "id": "fff70591-7608-4fb9-a8a2-3a60e49bcbd3",
   "metadata": {},
   "outputs": [],
   "source": [
    "#zero dimension values are called scaler values\n",
    "# always we know about the the data's four things \n",
    "#1.data tyep -dtype\n",
    "#2.shape\n",
    "#3.size --total items\n",
    "#4. dimensions --ndim"
   ]
  },
  {
   "cell_type": "code",
   "execution_count": 34,
   "id": "5661c406-5caf-476d-a7cb-bef0f7a23397",
   "metadata": {},
   "outputs": [],
   "source": [
    "scaler = np.array(5)"
   ]
  },
  {
   "cell_type": "code",
   "execution_count": 35,
   "id": "b87b1dec-944f-4f37-b130-ee5781aaaa08",
   "metadata": {},
   "outputs": [
    {
     "data": {
      "text/plain": [
       "array(5)"
      ]
     },
     "execution_count": 35,
     "metadata": {},
     "output_type": "execute_result"
    }
   ],
   "source": [
    "scaler"
   ]
  },
  {
   "cell_type": "code",
   "execution_count": 36,
   "id": "5da7ab4d-575a-4c5a-a3b3-2a8b97c498c7",
   "metadata": {},
   "outputs": [
    {
     "name": "stdout",
     "output_type": "stream",
     "text": [
      "5\n"
     ]
    }
   ],
   "source": [
    "print(scaler)"
   ]
  },
  {
   "cell_type": "code",
   "execution_count": 37,
   "id": "2ed4cfc9-563b-4881-b536-afd366739368",
   "metadata": {},
   "outputs": [
    {
     "data": {
      "text/plain": [
       "5"
      ]
     },
     "execution_count": 37,
     "metadata": {},
     "output_type": "execute_result"
    }
   ],
   "source": [
    "5"
   ]
  },
  {
   "cell_type": "code",
   "execution_count": 38,
   "id": "b811a39b-b0fc-47e9-99f4-637b641448d2",
   "metadata": {},
   "outputs": [
    {
     "data": {
      "text/plain": [
       "0"
      ]
     },
     "execution_count": 38,
     "metadata": {},
     "output_type": "execute_result"
    }
   ],
   "source": [
    "scaler.ndim"
   ]
  },
  {
   "cell_type": "code",
   "execution_count": 39,
   "id": "0698c12e-ce2b-48e2-b14b-d8eae61b82cd",
   "metadata": {},
   "outputs": [
    {
     "data": {
      "text/plain": [
       "dtype('int64')"
      ]
     },
     "execution_count": 39,
     "metadata": {},
     "output_type": "execute_result"
    }
   ],
   "source": [
    "scaler.dtype"
   ]
  },
  {
   "cell_type": "code",
   "execution_count": 40,
   "id": "11ab6d2b-13a9-4e59-9d0c-f798a314d4f0",
   "metadata": {},
   "outputs": [
    {
     "data": {
      "text/plain": [
       "()"
      ]
     },
     "execution_count": 40,
     "metadata": {},
     "output_type": "execute_result"
    }
   ],
   "source": [
    "scaler.shape"
   ]
  },
  {
   "cell_type": "code",
   "execution_count": 41,
   "id": "042eb490-c913-432e-89d5-b10a56cad043",
   "metadata": {},
   "outputs": [
    {
     "data": {
      "text/plain": [
       "1"
      ]
     },
     "execution_count": 41,
     "metadata": {},
     "output_type": "execute_result"
    }
   ],
   "source": [
    "scaler.size"
   ]
  },
  {
   "cell_type": "code",
   "execution_count": 42,
   "id": "173561e9-906a-4373-b5c3-f8d15a98c2d9",
   "metadata": {},
   "outputs": [
    {
     "data": {
      "text/plain": [
       "numpy.ndarray"
      ]
     },
     "execution_count": 42,
     "metadata": {},
     "output_type": "execute_result"
    }
   ],
   "source": [
    "type(scaler)"
   ]
  },
  {
   "cell_type": "markdown",
   "id": "fc4eb3c5-3d4a-4fa7-a42c-734acb4017a3",
   "metadata": {},
   "source": [
    "### Vectors"
   ]
  },
  {
   "cell_type": "code",
   "execution_count": 43,
   "id": "e4665575-d4c8-4bf3-86f6-ffa8f9fd11d9",
   "metadata": {},
   "outputs": [],
   "source": [
    "#### ONE dimension is called as vectors(ek braket hona chahiyeh)...collection of 0d or saclers is called vectors"
   ]
  },
  {
   "cell_type": "code",
   "execution_count": 44,
   "id": "35ac7ac0-fb14-41f8-ad37-2ecf984165f2",
   "metadata": {},
   "outputs": [],
   "source": [
    "vector = np.array([5,2,3,5])"
   ]
  },
  {
   "cell_type": "code",
   "execution_count": 45,
   "id": "48bd906c-b549-4473-82d4-001b9c82d16d",
   "metadata": {},
   "outputs": [
    {
     "name": "stdout",
     "output_type": "stream",
     "text": [
      "[5 2 3 5]\n"
     ]
    }
   ],
   "source": [
    "print(vector)"
   ]
  },
  {
   "cell_type": "code",
   "execution_count": 46,
   "id": "6f19f062-022e-4029-a5a4-17e81af21a16",
   "metadata": {},
   "outputs": [
    {
     "data": {
      "text/plain": [
       "dtype('int64')"
      ]
     },
     "execution_count": 46,
     "metadata": {},
     "output_type": "execute_result"
    }
   ],
   "source": [
    "vector.dtype"
   ]
  },
  {
   "cell_type": "code",
   "execution_count": 47,
   "id": "c8021d74-93fc-4d57-a241-060b9b58d959",
   "metadata": {},
   "outputs": [
    {
     "data": {
      "text/plain": [
       "1"
      ]
     },
     "execution_count": 47,
     "metadata": {},
     "output_type": "execute_result"
    }
   ],
   "source": [
    "vector.ndim"
   ]
  },
  {
   "cell_type": "code",
   "execution_count": 48,
   "id": "9f78407d-4c39-4c21-a17f-2451dd6d35d4",
   "metadata": {},
   "outputs": [
    {
     "data": {
      "text/plain": [
       "(4,)"
      ]
     },
     "execution_count": 48,
     "metadata": {},
     "output_type": "execute_result"
    }
   ],
   "source": [
    "vector.shape"
   ]
  },
  {
   "cell_type": "code",
   "execution_count": 49,
   "id": "a47e5d64-8002-47d7-aab9-15bb6c4fc8e7",
   "metadata": {},
   "outputs": [
    {
     "data": {
      "text/plain": [
       "4"
      ]
     },
     "execution_count": 49,
     "metadata": {},
     "output_type": "execute_result"
    }
   ],
   "source": [
    "vector.size"
   ]
  },
  {
   "cell_type": "markdown",
   "id": "6fa71663-396e-442d-b289-3806edb42f04",
   "metadata": {},
   "source": [
    "### Matrix\n",
    "\n",
    "collection of vectors..or collection of 1d array"
   ]
  },
  {
   "cell_type": "code",
   "execution_count": 50,
   "id": "b97a1408-5cd3-47c7-a3ad-041710a4799e",
   "metadata": {},
   "outputs": [],
   "source": [
    "matrix = np.array(\n",
    "    [\n",
    "        [1,2,3],\n",
    "        [4,5,6],\n",
    "        [7,8,9]\n",
    "    ]\n",
    ")"
   ]
  },
  {
   "cell_type": "code",
   "execution_count": 51,
   "id": "73093a69-4e69-49b0-a887-f979dfb31cd8",
   "metadata": {},
   "outputs": [
    {
     "data": {
      "text/plain": [
       "array([[1, 2, 3],\n",
       "       [4, 5, 6],\n",
       "       [7, 8, 9]])"
      ]
     },
     "execution_count": 51,
     "metadata": {},
     "output_type": "execute_result"
    }
   ],
   "source": [
    "matrix"
   ]
  },
  {
   "cell_type": "code",
   "execution_count": 52,
   "id": "dd3fd5b5-3e96-409c-a79a-6fc587a485c6",
   "metadata": {},
   "outputs": [
    {
     "name": "stdout",
     "output_type": "stream",
     "text": [
      "[[1 2 3]\n",
      " [4 5 6]\n",
      " [7 8 9]]\n"
     ]
    }
   ],
   "source": [
    "print(matrix)"
   ]
  },
  {
   "cell_type": "code",
   "execution_count": 53,
   "id": "1e51c31c-a886-4149-b137-f0a453c9b789",
   "metadata": {},
   "outputs": [
    {
     "data": {
      "text/plain": [
       "2"
      ]
     },
     "execution_count": 53,
     "metadata": {},
     "output_type": "execute_result"
    }
   ],
   "source": [
    "matrix.ndim"
   ]
  },
  {
   "cell_type": "code",
   "execution_count": 54,
   "id": "fcc0ecca-4fe6-4a66-8b9c-ebc7875ba591",
   "metadata": {},
   "outputs": [
    {
     "data": {
      "text/plain": [
       "9"
      ]
     },
     "execution_count": 54,
     "metadata": {},
     "output_type": "execute_result"
    }
   ],
   "source": [
    "matrix.size"
   ]
  },
  {
   "cell_type": "code",
   "execution_count": 55,
   "id": "327c4d5f-566a-4834-8215-203a11db3041",
   "metadata": {},
   "outputs": [
    {
     "data": {
      "text/plain": [
       "(3, 3)"
      ]
     },
     "execution_count": 55,
     "metadata": {},
     "output_type": "execute_result"
    }
   ],
   "source": [
    "#it check by vertically and horizentally as 3 row 3 coloumn\n",
    "matrix.shape"
   ]
  },
  {
   "cell_type": "code",
   "execution_count": 56,
   "id": "d20f6c91-62ec-4252-bad4-994c6c24d262",
   "metadata": {},
   "outputs": [],
   "source": [
    "#there must be a same elements in sublist ortherwise error occur\n",
    "matrix= np.array(\n",
    "    [\n",
    "        [1,2,3,4],\n",
    "        [5,6,7,8],\n",
    "        [9,10,11,12]\n",
    "    ]\n",
    ")"
   ]
  },
  {
   "cell_type": "code",
   "execution_count": 57,
   "id": "4b9371c9-3aec-403e-9970-0f785df02a90",
   "metadata": {},
   "outputs": [
    {
     "data": {
      "text/plain": [
       "array([[ 1,  2,  3,  4],\n",
       "       [ 5,  6,  7,  8],\n",
       "       [ 9, 10, 11, 12]])"
      ]
     },
     "execution_count": 57,
     "metadata": {},
     "output_type": "execute_result"
    }
   ],
   "source": [
    "matrix"
   ]
  },
  {
   "cell_type": "code",
   "execution_count": 58,
   "id": "fb2d3080-8432-450a-9c0f-7ffbe9df49bd",
   "metadata": {},
   "outputs": [
    {
     "data": {
      "text/plain": [
       "2"
      ]
     },
     "execution_count": 58,
     "metadata": {},
     "output_type": "execute_result"
    }
   ],
   "source": [
    "matrix.ndim"
   ]
  },
  {
   "cell_type": "code",
   "execution_count": 59,
   "id": "774b691e-46df-48c8-97e4-a9e0e657f6d6",
   "metadata": {},
   "outputs": [
    {
     "data": {
      "text/plain": [
       "12"
      ]
     },
     "execution_count": 59,
     "metadata": {},
     "output_type": "execute_result"
    }
   ],
   "source": [
    "matrix.size"
   ]
  },
  {
   "cell_type": "code",
   "execution_count": 60,
   "id": "c14f6ff3-0a75-40cc-afb1-f645ccf2fac7",
   "metadata": {},
   "outputs": [
    {
     "data": {
      "text/plain": [
       "(3, 4)"
      ]
     },
     "execution_count": 60,
     "metadata": {},
     "output_type": "execute_result"
    }
   ],
   "source": [
    "#3 row, 4 coloumn\n",
    "matrix.shape"
   ]
  },
  {
   "cell_type": "code",
   "execution_count": 61,
   "id": "38400eca-5f4b-4274-94dc-b6db054cb713",
   "metadata": {},
   "outputs": [
    {
     "data": {
      "text/plain": [
       "dtype('int64')"
      ]
     },
     "execution_count": 61,
     "metadata": {},
     "output_type": "execute_result"
    }
   ],
   "source": [
    "matrix.dtype"
   ]
  },
  {
   "cell_type": "markdown",
   "id": "19e94033-6ed4-41f1-a36f-2b85a2040b25",
   "metadata": {},
   "source": [
    "### Tensor "
   ]
  },
  {
   "cell_type": "code",
   "execution_count": 62,
   "id": "74036fff-9f88-4031-895a-dce18e8b6357",
   "metadata": {},
   "outputs": [],
   "source": [
    "tensor = np.array([\n",
    "    [\n",
    "        [1,2],\n",
    "        [3,4]\n",
    "    ],\n",
    "    [\n",
    "        [5,6],\n",
    "        [7,8]\n",
    "    ]\n",
    "])"
   ]
  },
  {
   "cell_type": "code",
   "execution_count": 63,
   "id": "a1c86669-ef17-4f30-ac25-cdfead59cb4a",
   "metadata": {},
   "outputs": [
    {
     "name": "stdout",
     "output_type": "stream",
     "text": [
      "[[[1 2]\n",
      "  [3 4]]\n",
      "\n",
      " [[5 6]\n",
      "  [7 8]]]\n"
     ]
    }
   ],
   "source": [
    "print(tensor)"
   ]
  },
  {
   "cell_type": "code",
   "execution_count": 64,
   "id": "6686d5c2-1911-4ed2-a515-cecfeca7ff97",
   "metadata": {},
   "outputs": [
    {
     "data": {
      "text/plain": [
       "dtype('int64')"
      ]
     },
     "execution_count": 64,
     "metadata": {},
     "output_type": "execute_result"
    }
   ],
   "source": [
    "tensor.dtype"
   ]
  },
  {
   "cell_type": "code",
   "execution_count": 65,
   "id": "4dd1ea36-2851-4adf-b5d9-65d78937cb9a",
   "metadata": {},
   "outputs": [
    {
     "data": {
      "text/plain": [
       "3"
      ]
     },
     "execution_count": 65,
     "metadata": {},
     "output_type": "execute_result"
    }
   ],
   "source": [
    "tensor.ndim"
   ]
  },
  {
   "cell_type": "code",
   "execution_count": 66,
   "id": "c107a222-b530-42d7-94ab-edcb01ce2c75",
   "metadata": {},
   "outputs": [
    {
     "data": {
      "text/plain": [
       "(2, 2, 2)"
      ]
     },
     "execution_count": 66,
     "metadata": {},
     "output_type": "execute_result"
    }
   ],
   "source": [
    "tensor.shape"
   ]
  },
  {
   "cell_type": "code",
   "execution_count": 67,
   "id": "63051b23-7af4-4945-8f62-56a5ba8cccdf",
   "metadata": {},
   "outputs": [
    {
     "data": {
      "text/plain": [
       "8"
      ]
     },
     "execution_count": 67,
     "metadata": {},
     "output_type": "execute_result"
    }
   ],
   "source": [
    "tensor.size"
   ]
  },
  {
   "cell_type": "code",
   "execution_count": 68,
   "id": "d572245c-b8b8-4c55-8965-1154c8cac60f",
   "metadata": {},
   "outputs": [],
   "source": [
    "tensor = np.array([\n",
    "    [\n",
    "        [1,2],\n",
    "        [3,4]\n",
    "    ],\n",
    "    [\n",
    "        [5,6],\n",
    "        [7,8]\n",
    "    ],\n",
    "    [\n",
    "        [9,10],\n",
    "        [1,2]\n",
    "    ]\n",
    "])"
   ]
  },
  {
   "cell_type": "code",
   "execution_count": 69,
   "id": "ce6c40f5-3504-48ce-9e5f-2d44514e0fda",
   "metadata": {},
   "outputs": [
    {
     "name": "stdout",
     "output_type": "stream",
     "text": [
      "[[[ 1  2]\n",
      "  [ 3  4]]\n",
      "\n",
      " [[ 5  6]\n",
      "  [ 7  8]]\n",
      "\n",
      " [[ 9 10]\n",
      "  [ 1  2]]]\n"
     ]
    }
   ],
   "source": [
    "print(tensor)"
   ]
  },
  {
   "cell_type": "code",
   "execution_count": 70,
   "id": "25ec307a-627a-4ea8-bafd-efa872677f4f",
   "metadata": {},
   "outputs": [
    {
     "data": {
      "text/plain": [
       "(3, 2, 2)"
      ]
     },
     "execution_count": 70,
     "metadata": {},
     "output_type": "execute_result"
    }
   ],
   "source": [
    "tensor.shape"
   ]
  },
  {
   "cell_type": "code",
   "execution_count": 71,
   "id": "3871f2b7-d3dd-432d-be17-427c3a50422a",
   "metadata": {},
   "outputs": [
    {
     "data": {
      "text/plain": [
       "12"
      ]
     },
     "execution_count": 71,
     "metadata": {},
     "output_type": "execute_result"
    }
   ],
   "source": [
    "tensor.size"
   ]
  },
  {
   "cell_type": "code",
   "execution_count": 72,
   "id": "ae8eb11d-5adc-4ee0-9784-0193b9004f53",
   "metadata": {},
   "outputs": [
    {
     "data": {
      "text/plain": [
       "3"
      ]
     },
     "execution_count": 72,
     "metadata": {},
     "output_type": "execute_result"
    }
   ],
   "source": [
    "tensor.ndim"
   ]
  },
  {
   "cell_type": "code",
   "execution_count": 73,
   "id": "f149ed54-631b-480a-9a6e-6319acafd6af",
   "metadata": {},
   "outputs": [
    {
     "data": {
      "text/plain": [
       "dtype('int64')"
      ]
     },
     "execution_count": 73,
     "metadata": {},
     "output_type": "execute_result"
    }
   ],
   "source": [
    "tensor.dtype"
   ]
  },
  {
   "cell_type": "markdown",
   "id": "37df30c8-74e2-4f74-954f-74431420e249",
   "metadata": {},
   "source": [
    "### Reshape"
   ]
  },
  {
   "cell_type": "code",
   "execution_count": 74,
   "id": "d76ebf03-443e-43f4-8b99-41d39262441e",
   "metadata": {},
   "outputs": [],
   "source": [
    "#size and ndim(by multipying i) is same...or by factors\n",
    "arr = np.array([1,2,3,4,5,6,7,8,9,10,11,12])"
   ]
  },
  {
   "cell_type": "code",
   "execution_count": 75,
   "id": "6e38d710-44dc-49e1-a90c-5d086fcd7e84",
   "metadata": {},
   "outputs": [
    {
     "data": {
      "text/plain": [
       "dtype('int64')"
      ]
     },
     "execution_count": 75,
     "metadata": {},
     "output_type": "execute_result"
    }
   ],
   "source": [
    "arr.dtype"
   ]
  },
  {
   "cell_type": "code",
   "execution_count": 76,
   "id": "938d434c-7a4a-4143-9333-788f33d9b3e1",
   "metadata": {},
   "outputs": [
    {
     "data": {
      "text/plain": [
       "(12,)"
      ]
     },
     "execution_count": 76,
     "metadata": {},
     "output_type": "execute_result"
    }
   ],
   "source": [
    "arr.shape"
   ]
  },
  {
   "cell_type": "code",
   "execution_count": 77,
   "id": "1b815640-af0e-4cfd-85f0-0aae50bc365f",
   "metadata": {},
   "outputs": [
    {
     "data": {
      "text/plain": [
       "12"
      ]
     },
     "execution_count": 77,
     "metadata": {},
     "output_type": "execute_result"
    }
   ],
   "source": [
    "arr.size"
   ]
  },
  {
   "cell_type": "code",
   "execution_count": 78,
   "id": "9c0d1a88-ceff-4954-8b84-402f0d38a791",
   "metadata": {},
   "outputs": [
    {
     "data": {
      "text/plain": [
       "1"
      ]
     },
     "execution_count": 78,
     "metadata": {},
     "output_type": "execute_result"
    }
   ],
   "source": [
    "arr.ndim"
   ]
  },
  {
   "cell_type": "code",
   "execution_count": 79,
   "id": "20c04263-5dfa-4fb5-a6c4-a57f7c8ebad9",
   "metadata": {},
   "outputs": [
    {
     "data": {
      "text/plain": [
       "array([[ 1,  2,  3,  4,  5,  6,  7,  8,  9, 10, 11, 12]])"
      ]
     },
     "execution_count": 79,
     "metadata": {},
     "output_type": "execute_result"
    }
   ],
   "source": [
    "#1 element having 12 items\n",
    "arr.reshape(1,12)"
   ]
  },
  {
   "cell_type": "code",
   "execution_count": 80,
   "id": "94fe2e27-12a8-4cc3-8b8a-5dfcb933a9f4",
   "metadata": {},
   "outputs": [
    {
     "data": {
      "text/plain": [
       "1"
      ]
     },
     "execution_count": 80,
     "metadata": {},
     "output_type": "execute_result"
    }
   ],
   "source": [
    "arr.ndim"
   ]
  },
  {
   "cell_type": "code",
   "execution_count": 81,
   "id": "87509878-4ebb-4e2d-9824-e82a86ac26a5",
   "metadata": {},
   "outputs": [
    {
     "data": {
      "text/plain": [
       "array([ 1,  2,  3,  4,  5,  6,  7,  8,  9, 10, 11, 12])"
      ]
     },
     "execution_count": 81,
     "metadata": {},
     "output_type": "execute_result"
    }
   ],
   "source": [
    "arr.reshape(12)"
   ]
  },
  {
   "cell_type": "code",
   "execution_count": 82,
   "id": "99000ba3-44ac-4074-b1c7-47cfe0426e6c",
   "metadata": {},
   "outputs": [
    {
     "data": {
      "text/plain": [
       "array([[ 1],\n",
       "       [ 2],\n",
       "       [ 3],\n",
       "       [ 4],\n",
       "       [ 5],\n",
       "       [ 6],\n",
       "       [ 7],\n",
       "       [ 8],\n",
       "       [ 9],\n",
       "       [10],\n",
       "       [11],\n",
       "       [12]])"
      ]
     },
     "execution_count": 82,
     "metadata": {},
     "output_type": "execute_result"
    }
   ],
   "source": [
    "#12 elements having 1 item\n",
    "arr.reshape(12,1)"
   ]
  },
  {
   "cell_type": "code",
   "execution_count": 83,
   "id": "178ec9cd-2246-43bc-9cb7-98f4669ad4fb",
   "metadata": {},
   "outputs": [
    {
     "data": {
      "text/plain": [
       "array([[ 1,  2],\n",
       "       [ 3,  4],\n",
       "       [ 5,  6],\n",
       "       [ 7,  8],\n",
       "       [ 9, 10],\n",
       "       [11, 12]])"
      ]
     },
     "execution_count": 83,
     "metadata": {},
     "output_type": "execute_result"
    }
   ],
   "source": [
    "arr.reshape(6,2)"
   ]
  },
  {
   "cell_type": "code",
   "execution_count": 84,
   "id": "96e498f7-d0a7-48d2-8fc9-1e0b46c85885",
   "metadata": {},
   "outputs": [
    {
     "data": {
      "text/plain": [
       "array([[ 1,  2,  3,  4,  5,  6],\n",
       "       [ 7,  8,  9, 10, 11, 12]])"
      ]
     },
     "execution_count": 84,
     "metadata": {},
     "output_type": "execute_result"
    }
   ],
   "source": [
    "arr.reshape(2,6)"
   ]
  },
  {
   "cell_type": "code",
   "execution_count": 85,
   "id": "d276db5b-e303-4f5e-8cea-8f775b17eb02",
   "metadata": {},
   "outputs": [
    {
     "data": {
      "text/plain": [
       "array([[[ 1,  2],\n",
       "        [ 3,  4],\n",
       "        [ 5,  6]],\n",
       "\n",
       "       [[ 7,  8],\n",
       "        [ 9, 10],\n",
       "        [11, 12]]])"
      ]
     },
     "execution_count": 85,
     "metadata": {},
     "output_type": "execute_result"
    }
   ],
   "source": [
    "arr.reshape(2,3,2)"
   ]
  },
  {
   "cell_type": "code",
   "execution_count": 86,
   "id": "a15bf4d5-cc55-442f-ab21-edf8399f2f97",
   "metadata": {},
   "outputs": [
    {
     "data": {
      "text/plain": [
       "array([[[ 1,  2,  3],\n",
       "        [ 4,  5,  6]],\n",
       "\n",
       "       [[ 7,  8,  9],\n",
       "        [10, 11, 12]]])"
      ]
     },
     "execution_count": 86,
     "metadata": {},
     "output_type": "execute_result"
    }
   ],
   "source": [
    "arr.reshape(2,2,3)"
   ]
  },
  {
   "cell_type": "code",
   "execution_count": 87,
   "id": "c41760f0-52e9-49b7-9aae-b85465ffc8b1",
   "metadata": {},
   "outputs": [
    {
     "data": {
      "text/plain": [
       "array([[ 1,  2,  3,  4],\n",
       "       [ 5,  6,  7,  8],\n",
       "       [ 9, 10, 11, 12]])"
      ]
     },
     "execution_count": 87,
     "metadata": {},
     "output_type": "execute_result"
    }
   ],
   "source": [
    "arr.reshape(3,4)"
   ]
  },
  {
   "cell_type": "code",
   "execution_count": 8,
   "id": "740da76c-3cdb-4635-b47e-a9cd0435dfd8",
   "metadata": {},
   "outputs": [],
   "source": [
    "arr = np.array([x for x in range(1,25)])"
   ]
  },
  {
   "cell_type": "code",
   "execution_count": 110,
   "id": "f196ea0b-575a-40b2-aff0-d8841d88298d",
   "metadata": {},
   "outputs": [],
   "source": [
    "arr = np.array([1,2,3,4,5,6,7,8,9,10,11,12,13,14,15,16,17,18,19,20,21,22,23,24])"
   ]
  },
  {
   "cell_type": "code",
   "execution_count": 111,
   "id": "1578c6cf-074c-49e8-a928-ccaaa1b4526a",
   "metadata": {},
   "outputs": [
    {
     "data": {
      "text/plain": [
       "array([ 1,  2,  3,  4,  5,  6,  7,  8,  9, 10, 11, 12, 13, 14, 15, 16, 17,\n",
       "       18, 19, 20, 21, 22, 23, 24])"
      ]
     },
     "execution_count": 111,
     "metadata": {},
     "output_type": "execute_result"
    }
   ],
   "source": [
    "arr"
   ]
  },
  {
   "cell_type": "code",
   "execution_count": 113,
   "id": "65956d15-8bf5-41e3-b78e-160a24c37191",
   "metadata": {},
   "outputs": [
    {
     "data": {
      "text/plain": [
       "(24,)"
      ]
     },
     "execution_count": 113,
     "metadata": {},
     "output_type": "execute_result"
    }
   ],
   "source": [
    "arr.shape"
   ]
  },
  {
   "cell_type": "code",
   "execution_count": 114,
   "id": "c327004e-9b0c-42c9-a05b-4f298976398d",
   "metadata": {},
   "outputs": [
    {
     "data": {
      "text/plain": [
       "1"
      ]
     },
     "execution_count": 114,
     "metadata": {},
     "output_type": "execute_result"
    }
   ],
   "source": [
    "arr.ndim"
   ]
  },
  {
   "cell_type": "code",
   "execution_count": 115,
   "id": "a43835d8-d038-4146-afda-a4e592e48dd0",
   "metadata": {},
   "outputs": [
    {
     "data": {
      "text/plain": [
       "24"
      ]
     },
     "execution_count": 115,
     "metadata": {},
     "output_type": "execute_result"
    }
   ],
   "source": [
    "arr.size"
   ]
  },
  {
   "cell_type": "code",
   "execution_count": 124,
   "id": "b4889111-6061-44c2-b091-ac7ba6f78512",
   "metadata": {},
   "outputs": [
    {
     "data": {
      "text/plain": [
       "array([[ 1,  2,  3,  4,  5,  6],\n",
       "       [ 7,  8,  9, 10, 11, 12],\n",
       "       [13, 14, 15, 16, 17, 18],\n",
       "       [19, 20, 21, 22, 23, 24]])"
      ]
     },
     "execution_count": 124,
     "metadata": {},
     "output_type": "execute_result"
    }
   ],
   "source": [
    "#if i don't want calculate or multiply further so we write -1 and agge apne app ho jata hai\n",
    "arr.reshape(4,-1)"
   ]
  },
  {
   "cell_type": "code",
   "execution_count": 119,
   "id": "511b7925-caba-488e-a22d-6593699fe957",
   "metadata": {},
   "outputs": [
    {
     "data": {
      "text/plain": [
       "array([[[ 1,  2],\n",
       "        [ 3,  4]],\n",
       "\n",
       "       [[ 5,  6],\n",
       "        [ 7,  8]],\n",
       "\n",
       "       [[ 9, 10],\n",
       "        [11, 12]],\n",
       "\n",
       "       [[13, 14],\n",
       "        [15, 16]],\n",
       "\n",
       "       [[17, 18],\n",
       "        [19, 20]],\n",
       "\n",
       "       [[21, 22],\n",
       "        [23, 24]]])"
      ]
     },
     "execution_count": 119,
     "metadata": {},
     "output_type": "execute_result"
    }
   ],
   "source": [
    "arr.reshape(6,2,2)"
   ]
  },
  {
   "cell_type": "code",
   "execution_count": 120,
   "id": "f4711991-40b9-4b03-ab11-dbe3072badd7",
   "metadata": {},
   "outputs": [
    {
     "data": {
      "text/plain": [
       "array([[[ 1,  2],\n",
       "        [ 3,  4],\n",
       "        [ 5,  6],\n",
       "        [ 7,  8]],\n",
       "\n",
       "       [[ 9, 10],\n",
       "        [11, 12],\n",
       "        [13, 14],\n",
       "        [15, 16]],\n",
       "\n",
       "       [[17, 18],\n",
       "        [19, 20],\n",
       "        [21, 22],\n",
       "        [23, 24]]])"
      ]
     },
     "execution_count": 120,
     "metadata": {},
     "output_type": "execute_result"
    }
   ],
   "source": [
    "arr.reshape(3,4,2)"
   ]
  },
  {
   "cell_type": "code",
   "execution_count": 121,
   "id": "c417e978-a3a6-4d7b-86d6-ae00a91d6d06",
   "metadata": {},
   "outputs": [
    {
     "data": {
      "text/plain": [
       "array([[ 1],\n",
       "       [ 2],\n",
       "       [ 3],\n",
       "       [ 4],\n",
       "       [ 5],\n",
       "       [ 6],\n",
       "       [ 7],\n",
       "       [ 8],\n",
       "       [ 9],\n",
       "       [10],\n",
       "       [11],\n",
       "       [12],\n",
       "       [13],\n",
       "       [14],\n",
       "       [15],\n",
       "       [16],\n",
       "       [17],\n",
       "       [18],\n",
       "       [19],\n",
       "       [20],\n",
       "       [21],\n",
       "       [22],\n",
       "       [23],\n",
       "       [24]])"
      ]
     },
     "execution_count": 121,
     "metadata": {},
     "output_type": "execute_result"
    }
   ],
   "source": [
    "arr.reshape(24,1)"
   ]
  },
  {
   "cell_type": "code",
   "execution_count": 122,
   "id": "ab591dc0-3159-4e40-a85e-4dec0da17ea0",
   "metadata": {},
   "outputs": [
    {
     "data": {
      "text/plain": [
       "array([ 1,  2,  3,  4,  5,  6,  7,  8,  9, 10, 11, 12, 13, 14, 15, 16, 17,\n",
       "       18, 19, 20, 21, 22, 23, 24])"
      ]
     },
     "execution_count": 122,
     "metadata": {},
     "output_type": "execute_result"
    }
   ],
   "source": [
    "arr.reshape(-1)"
   ]
  },
  {
   "cell_type": "code",
   "execution_count": 123,
   "id": "de0da28e-65f4-435f-ba4c-1b410c867d6f",
   "metadata": {},
   "outputs": [
    {
     "data": {
      "text/plain": [
       "array([[[ 1,  2,  3,  4],\n",
       "        [ 5,  6,  7,  8],\n",
       "        [ 9, 10, 11, 12]],\n",
       "\n",
       "       [[13, 14, 15, 16],\n",
       "        [17, 18, 19, 20],\n",
       "        [21, 22, 23, 24]]])"
      ]
     },
     "execution_count": 123,
     "metadata": {},
     "output_type": "execute_result"
    }
   ],
   "source": [
    "arr.reshape(2,3,-1)"
   ]
  },
  {
   "cell_type": "code",
   "execution_count": 125,
   "id": "ce9caf8d-b126-4c69-a29b-19c616d21a72",
   "metadata": {},
   "outputs": [
    {
     "data": {
      "text/plain": [
       "array([[[ 1,  2,  3],\n",
       "        [ 4,  5,  6],\n",
       "        [ 7,  8,  9],\n",
       "        [10, 11, 12]],\n",
       "\n",
       "       [[13, 14, 15],\n",
       "        [16, 17, 18],\n",
       "        [19, 20, 21],\n",
       "        [22, 23, 24]]])"
      ]
     },
     "execution_count": 125,
     "metadata": {},
     "output_type": "execute_result"
    }
   ],
   "source": [
    "arr.reshape(2,4,3)"
   ]
  },
  {
   "cell_type": "markdown",
   "id": "5433bed0-e0d2-4298-b74e-b10d9e73ff06",
   "metadata": {},
   "source": [
    "## To create an array in different shapes"
   ]
  },
  {
   "cell_type": "code",
   "execution_count": 88,
   "id": "94268af3-021f-4e66-bdcb-7d46725ea5b5",
   "metadata": {},
   "outputs": [],
   "source": [
    "array = np.array([[[1,2,3,4]]])"
   ]
  },
  {
   "cell_type": "code",
   "execution_count": 5,
   "id": "f5b67010-11d0-4183-9e87-7a7ff6461855",
   "metadata": {},
   "outputs": [
    {
     "data": {
      "text/plain": [
       "3"
      ]
     },
     "execution_count": 5,
     "metadata": {},
     "output_type": "execute_result"
    }
   ],
   "source": [
    "array.ndim"
   ]
  },
  {
   "cell_type": "code",
   "execution_count": 12,
   "id": "f079acb2-6f8d-4e4a-8590-b7a666d47fae",
   "metadata": {},
   "outputs": [],
   "source": [
    "array= np.array([[1,2,3],[1,2,3],[1,2,3]])"
   ]
  },
  {
   "cell_type": "code",
   "execution_count": 14,
   "id": "58118571-7404-49e4-ac49-8af828e6cccc",
   "metadata": {},
   "outputs": [
    {
     "data": {
      "text/plain": [
       "(3, 3)"
      ]
     },
     "execution_count": 14,
     "metadata": {},
     "output_type": "execute_result"
    }
   ],
   "source": [
    "array.shape"
   ]
  },
  {
   "cell_type": "code",
   "execution_count": 15,
   "id": "87698e7c-6bdd-4818-b086-34cd81a5356e",
   "metadata": {},
   "outputs": [],
   "source": [
    "array = np.array([[1,2,3],[1,2,3]])"
   ]
  },
  {
   "cell_type": "code",
   "execution_count": 16,
   "id": "6fe3c921-cb4c-446a-9b6f-f3be22fc5254",
   "metadata": {},
   "outputs": [
    {
     "data": {
      "text/plain": [
       "(2, 3)"
      ]
     },
     "execution_count": 16,
     "metadata": {},
     "output_type": "execute_result"
    }
   ],
   "source": [
    "array.shape\n"
   ]
  },
  {
   "cell_type": "code",
   "execution_count": 19,
   "id": "10c1e3c3-366f-418f-91c5-af455420d728",
   "metadata": {},
   "outputs": [],
   "source": [
    "array3 = np.array([[[1,2,3],[1,2,3]] , [[1,2,3],[1,2,3]]])"
   ]
  },
  {
   "cell_type": "code",
   "execution_count": 32,
   "id": "a4689cd5-a324-4872-b0c4-b29e4ee85e59",
   "metadata": {},
   "outputs": [
    {
     "data": {
      "text/plain": [
       "(2, 2, 3)"
      ]
     },
     "execution_count": 32,
     "metadata": {},
     "output_type": "execute_result"
    }
   ],
   "source": [
    "#(number of layersor blocks , rows , columns)\n",
    "array3.shape"
   ]
  },
  {
   "cell_type": "code",
   "execution_count": 33,
   "id": "a9666ba0-102c-40f1-b823-2cb510c1fcc9",
   "metadata": {},
   "outputs": [
    {
     "data": {
      "text/plain": [
       "3"
      ]
     },
     "execution_count": 33,
     "metadata": {},
     "output_type": "execute_result"
    }
   ],
   "source": [
    "array3.ndim"
   ]
  },
  {
   "cell_type": "code",
   "execution_count": 34,
   "id": "ddf0ed34-329b-4cbb-8152-deabf33e19e5",
   "metadata": {},
   "outputs": [],
   "source": [
    "array = np.array([[[1,2],[1,2]],[[1,2],[1,2]],[[1,2],[1,2]], [[1,2] ,[1,2]]])"
   ]
  },
  {
   "cell_type": "code",
   "execution_count": 35,
   "id": "b49f3cd9-63b5-48db-b16e-472ddfd3443b",
   "metadata": {},
   "outputs": [
    {
     "data": {
      "text/plain": [
       "(4, 2, 2)"
      ]
     },
     "execution_count": 35,
     "metadata": {},
     "output_type": "execute_result"
    }
   ],
   "source": [
    "array.shape"
   ]
  },
  {
   "cell_type": "code",
   "execution_count": 36,
   "id": "cdfd0a34-76d0-4fea-9816-87dfbeab76bb",
   "metadata": {},
   "outputs": [],
   "source": [
    "array = np.array([[[1,2,3]],[[1,2,3]],[[1,2,3]],[[1,2,3]]])"
   ]
  },
  {
   "cell_type": "code",
   "execution_count": 37,
   "id": "5194e05c-cb1a-47d2-aef3-12c7a4aa0ab3",
   "metadata": {},
   "outputs": [
    {
     "data": {
      "text/plain": [
       "(4, 1, 3)"
      ]
     },
     "execution_count": 37,
     "metadata": {},
     "output_type": "execute_result"
    }
   ],
   "source": [
    "array.shape"
   ]
  },
  {
   "cell_type": "code",
   "execution_count": 38,
   "id": "8686fd10-c003-499a-ab87-c87bb4bbed2d",
   "metadata": {},
   "outputs": [
    {
     "name": "stdout",
     "output_type": "stream",
     "text": [
      "[[[1 2 3]]\n",
      "\n",
      " [[1 2 3]]\n",
      "\n",
      " [[1 2 3]]\n",
      "\n",
      " [[1 2 3]]]\n"
     ]
    }
   ],
   "source": [
    "print(array)"
   ]
  },
  {
   "cell_type": "code",
   "execution_count": 39,
   "id": "e5ddb44d-6f67-4419-9484-35c8a303a913",
   "metadata": {},
   "outputs": [],
   "source": [
    "#broad casting\n",
    "array = np.array([[1,2,3],[1,2,3]])"
   ]
  },
  {
   "cell_type": "code",
   "execution_count": 40,
   "id": "9d844147-5ee5-41c2-9661-b60a75e75c17",
   "metadata": {},
   "outputs": [
    {
     "data": {
      "text/plain": [
       "array([[6, 7, 8],\n",
       "       [6, 7, 8]])"
      ]
     },
     "execution_count": 40,
     "metadata": {},
     "output_type": "execute_result"
    }
   ],
   "source": [
    "array+5"
   ]
  },
  {
   "cell_type": "code",
   "execution_count": 41,
   "id": "144c7f00-0b23-4277-8faa-6a55156ba520",
   "metadata": {},
   "outputs": [
    {
     "name": "stdout",
     "output_type": "stream",
     "text": [
      "[[1 2 3]\n",
      " [1 2 3]]\n"
     ]
    }
   ],
   "source": [
    "print(array)"
   ]
  },
  {
   "cell_type": "code",
   "execution_count": null,
   "id": "bdba136d-0812-43bf-8c00-2c063427710a",
   "metadata": {},
   "outputs": [],
   "source": []
  }
 ],
 "metadata": {
  "kernelspec": {
   "display_name": "Python [conda env:base] *",
   "language": "python",
   "name": "conda-base-py"
  },
  "language_info": {
   "codemirror_mode": {
    "name": "ipython",
    "version": 3
   },
   "file_extension": ".py",
   "mimetype": "text/x-python",
   "name": "python",
   "nbconvert_exporter": "python",
   "pygments_lexer": "ipython3",
   "version": "3.13.5"
  }
 },
 "nbformat": 4,
 "nbformat_minor": 5
}
